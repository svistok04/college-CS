{
 "cells": [
  {
   "cell_type": "markdown",
   "id": "0",
   "metadata": {},
   "source": []
  },
  {
   "cell_type": "code",
   "execution_count": null,
   "id": "1",
   "metadata": {},
   "outputs": [],
   "source": [
    "import numpy as np\n",
    "import pandas as pd\n",
    "# manipulowne danymi\n",
    "indices = pd.date_range(start='2020-03-01 00:00:00', periods=5, freq='D')\n",
    "df = pd.DataFrame(data=np.random.randn(5, 3), index=indices, columns=['A', 'B', 'C'])\n",
    "df.index.name = 'data'\n",
    "df"
   ]
  },
  {
   "cell_type": "code",
   "execution_count": null,
   "id": "2",
   "metadata": {},
   "outputs": [],
   "source": [
    "df = pd.DataFrame(np.random.randn(20, 3), np.arange(20), columns=['A', 'B', 'C'])\n",
    "df.index.name = 'id'\n",
    "print('pierwsze 3 wierzy\\n', df.head(3))\n",
    "print('\\ntrzy ostatnie wierszy\\n', df.tail(3))\n",
    "print('\\nnazwa indeksu\\n', df.index.name)\n",
    "print('\\nnazwy kolumn\\n', df.columns.values)\n",
    "print('\\ndane tabeli bez indeksow i naglowkow kolumn\\n', df.values)\n",
    "print('\\npiec losowych wierszy\\n', df.sample(5))\n",
    "print('\\nkolumna A\\n', df['A'])\n",
    "print('\\nkolumny A i B\\n', df[['A', 'B']])\n",
    "print('\\npiewsze 3 wierszy kolumn A i B\\n', df.iloc[:3, [0, 1]])\n",
    "print('\\nwiersz 5\\n', df.iloc[5])\n",
    "print('\\nwierszy 0, 5, 6, 7 kolumn 1 i 2\\n', df.iloc[[0, 5, 6, 7], [1, 2]])"
   ]
  },
  {
   "cell_type": "code",
   "execution_count": null,
   "id": "3",
   "metadata": {},
   "outputs": [],
   "source": [
    "print('\\ndescribe\\n', df.describe())\n",
    "print('\\ntablica prawdy dane > 0\\n', df>0)\n",
    "print('\\nwyswietlic tylko dane wieksze od 0\\n', df[df>0])\n",
    "print('\\nwyswietlic dane wieksze od 0 z kolumny A\\n', df[df.A>0]['A'])\n",
    "print('\\nsrednia kolumn\\n', df.mean())\n",
    "print('\\nsrednia wierszy\\n', df.mean(axis=1))"
   ]
  },
  {
   "cell_type": "code",
   "execution_count": null,
   "id": "4",
   "metadata": {},
   "outputs": [],
   "source": [
    "df1 = pd.DataFrame(np.arange(15).reshape(3, 5), np.arange(3), columns=np.arange(1, 6))\n",
    "df2 = pd.DataFrame(np.arange(15).reshape(5, 3), np.arange(5), columns=np.arange(1, 4))\n",
    "df3 = pd.concat([df1, df2])\n",
    "df3, df3.T"
   ]
  },
  {
   "cell_type": "code",
   "execution_count": null,
   "id": "5",
   "metadata": {},
   "outputs": [],
   "source": [
    "# sortowanie\n",
    "df = pd.DataFrame({\"x\": [1, 2, 3, 4, 5], \"y\": ['a', 'b', 'a', 'b', 'b']}, index=np.arange(5))\n",
    "df.index.name= 'id'\n",
    "df.sort_index(ascending=False), df.sort_values(by='y')"
   ]
  },
  {
   "cell_type": "code",
   "execution_count": null,
   "id": "6",
   "metadata": {},
   "outputs": [],
   "source": [
    "# grupowanie\n",
    "slownik ={'Day': ['Mon', 'Tue', 'Mon', 'Tue', 'Mon'], \n",
    "          'Fruit':['Apple', 'Apple', 'Banana', 'Banana', 'Apple'], \n",
    "          'Pound': [10,15, 50, 40, 5], \n",
    "          'Profit':[20, 30, 25, 20, 10]}\n",
    "df = pd.DataFrame(slownik)\n",
    "print(df)\n",
    "print(df.groupby('Day').sum())\n",
    "print(df.groupby(['Day', 'Fruit']).sum())"
   ]
  },
  {
   "cell_type": "code",
   "execution_count": null,
   "id": "7",
   "metadata": {},
   "outputs": [],
   "source": [
    "# wypelnianie danych\n",
    "df=pd.DataFrame(np.random.randn(20, 3), index=np.arange(20),columns=['A','B','C'])\n",
    "df.index.name='id'\n",
    "df['B']=1\n",
    "print('zamiana wszystkich wartosci w kolumnie B na 1\\n', df)\n",
    "df.iloc[1,2]=10\n",
    "print('zamiana wartosci w wiersze 1 kolumny C na 10\\n', df)\n",
    "df[df<0]=-df\n",
    "print('\\nwartosc bewzledna\\n',df)"
   ]
  },
  {
   "cell_type": "code",
   "execution_count": null,
   "id": "8",
   "metadata": {},
   "outputs": [],
   "source": [
    "# uzupelnianie danych\n",
    "df.iloc[[0, 3], 1] = np.nan\n",
    "print('zamiana wartosci w wierszach 0 i 3 kolumny B na NaN\\n', df)\n",
    "df.fillna(0, inplace=True)\n",
    "print('\\nzamiana wartosci NaN na 0 w miejscu\\n', df)\n",
    "df.iloc[[0, 3], 1] = np.nan\n",
    "df=df.replace(to_replace=np.nan,value=-9999)\n",
    "print('\\nzamiana wartosci NaN na -9999\\n', df)\n",
    "df.iloc[[0, 3], 1] = np.nan\n",
    "print('\\ntabela prawdy dla wartosci NaN\\n', pd.isnull(df))"
   ]
  },
  {
   "cell_type": "code",
   "execution_count": null,
   "id": "9",
   "metadata": {},
   "outputs": [],
   "source": [
    "df = pd.DataFrame({\"x\": [1, 2, 3, 4, 5], 'y': ['a', 'b', 'a','b', 'b']})\n",
    "# zadanie 1\n",
    "# zgrupowac po y i wyznaczyc srednia dla x\n",
    "df = df.groupby('y').mean()\n",
    "print(df)\n",
    "\n",
    "# zadanie 2\n",
    "# wyznaczyc rozklad licznosci atrybutow (z 'x' i 'y')\n",
    "print(df.value_counts())"
   ]
  },
  {
   "cell_type": "code",
   "execution_count": null,
   "id": "10",
   "metadata": {},
   "outputs": [],
   "source": [
    "# zadanie 3\n",
    "# autos_txt = np.loadtxt(\"autos.csv\")\n",
    "autos_csv = pd.read_csv('autos.csv')\n",
    "autos_csv"
   ]
  },
  {
   "cell_type": "code",
   "execution_count": null,
   "id": "11",
   "metadata": {},
   "outputs": [],
   "source": [
    "# zadane 4\n",
    "# srednie zuzycie paliwa dla kazdego producenta 'make'\n",
    "mpg_mean_by_make = autos_csv.assign(overall_mpg=(autos_csv['city-mpg'] + autos_csv['highway-mpg'])/2).groupby('make')['overall_mpg'].mean().reset_index(name='overall_mpg')\n",
    "# mpg_mean_by_make = autos_csv.groupby('make')[['city-mpg', 'highway-mpg']].mean()\n",
    "mpg_mean_by_make"
   ]
  },
  {
   "cell_type": "code",
   "execution_count": null,
   "id": "12",
   "metadata": {},
   "outputs": [],
   "source": [
    "# zadanie 5\n",
    "# licznosc 'fuel-type' dla 'make'\n",
    "fuel_type = autos_csv.groupby(['make', 'fuel-type']).size().reset_index(name='count')\n",
    "fuel_type"
   ]
  },
  {
   "cell_type": "code",
   "execution_count": null,
   "id": "13",
   "metadata": {},
   "outputs": [],
   "source": [
    "# zadanie 6\n",
    "poly1 = np.polyfit(autos_csv['length'], autos_csv['city-mpg'], 1) # wielomian 1 stopnia\n",
    "poly2 = np.polyfit(autos_csv['length'], autos_csv['city-mpg'], 2) # wielomian 2 stopnia\n",
    "val = np.polyval(poly1, autos_csv['length'])\n",
    "# print(autos_csv['city-mpg'])\n",
    "# print(val)\n",
    "poly1, poly2"
   ]
  },
  {
   "cell_type": "code",
   "execution_count": null,
   "id": "14",
   "metadata": {},
   "outputs": [],
   "source": [
    "# zadanie 7\n",
    "import scipy\n",
    "scipy.stats.pearsonr(autos_csv['city-mpg'], val).statistic # wskaznik korelacji"
   ]
  },
  {
   "cell_type": "code",
   "execution_count": null,
   "id": "15",
   "metadata": {},
   "outputs": [],
   "source": [
    "# zadanie 8\n",
    "import matplotlib.pyplot as pyplot\n",
    "pyplot.plot(autos_csv['length'], autos_csv['city-mpg'], 'ro', autos_csv['length'], val, 'b', markersize=5)\n",
    "pyplot.legend(('city-mpg', 'linear polynomial'))\n",
    "pyplot.show()"
   ]
  },
  {
   "cell_type": "code",
   "execution_count": null,
   "id": "16",
   "metadata": {},
   "outputs": [],
   "source": [
    "# zadanie 9\n",
    "kde_length = scipy.stats.gaussian_kde(autos_csv['length'])\n",
    "x = np.linspace(min(autos_csv['length']), max(autos_csv['length']), len(autos_csv['length'])) # zbior rownoleglych liczb dla funkcji gestosci\n",
    "y = kde_length(x)\n",
    "pyplot.plot(x, y, 'b', autos_csv['length'], kde_length(autos_csv['length']), 'ro', markersize=5)\n",
    "pyplot.legend(('Estymator Gausa', 'Próbki'))\n",
    "pyplot.show()"
   ]
  },
  {
   "cell_type": "code",
   "execution_count": null,
   "id": "17",
   "metadata": {},
   "outputs": [],
   "source": [
    "# zadanie 10\n",
    "fig, (ax1, ax2) = pyplot.subplots(2, 1)\n",
    "x = np.linspace(min(autos_csv['length']), max(autos_csv['length']), len(autos_csv['length'])) # zbior rownoleglych liczb dla funkcji gestosci\n",
    "y = kde_length(x)\n",
    "ax1.plot(x, y, 'b', autos_csv['length'], kde_length(autos_csv['length']), 'ro', markersize=5)\n",
    "kde_width = scipy.stats.gaussian_kde(autos_csv['width'])\n",
    "x = np.linspace(min(autos_csv['width']), max(autos_csv['width']), 100) # zbior rownoleglych liczb dla funkcji gestosci\n",
    "y = kde_width(x)\n",
    "ax2.plot(x, y, 'b', autos_csv['width'], kde_width(autos_csv['width']), 'ro', markersize=5)\n",
    "pyplot.show()"
   ]
  },
  {
   "cell_type": "code",
   "execution_count": null,
   "id": "18",
   "metadata": {},
   "outputs": [],
   "source": [
    "# zadanie 11\n",
    "x = np.linspace(min(autos_csv['length']), max(autos_csv['length']), len(autos_csv['length'])) # zbior równoleglych liczb dla funkcji gestosci\n",
    "y = np.linspace(min(autos_csv['width']), max(autos_csv['width']), len(autos_csv['width'])) # zbior równoleglych liczb dla funkcji gestosci\n",
    "X, Y = np.meshgrid(x, y)\n",
    "positions = np.vstack([X.ravel(), Y.ravel()]) # polaczenie zbiorow liczb w prawidlowej dla funkcji gestosci formie (w tym przypadku 2 wiersza)\n",
    "values = np.vstack([autos_csv['length'], autos_csv['width']]) # polaczenie wiadomych danych dla estymatora\n",
    "kde = scipy.stats.gaussian_kde(values) \n",
    "Z = np.reshape(kde(positions), X.shape)\n",
    "pyplot.plot(autos_csv['length'], autos_csv['width'], 'ro', markersize=3)\n",
    "pyplot.contour(X, Y, Z, cmap='coolwarm')\n",
    "pyplot.savefig('contour.png')\n",
    "pyplot.savefig('contour.pdf')\n",
    "pyplot.show()"
   ]
  },
  {
   "cell_type": "code",
   "execution_count": null,
   "id": "19",
   "metadata": {},
   "outputs": [],
   "source": []
  }
 ],
 "metadata": {
  "kernelspec": {
   "display_name": "Python 3 (ipykernel)",
   "language": "python",
   "name": "python3"
  },
  "language_info": {
   "codemirror_mode": {
    "name": "ipython",
    "version": 3
   },
   "file_extension": ".py",
   "mimetype": "text/x-python",
   "name": "python",
   "nbconvert_exporter": "python",
   "pygments_lexer": "ipython3",
   "version": "3.10.12"
  }
 },
 "nbformat": 4,
 "nbformat_minor": 5
}
