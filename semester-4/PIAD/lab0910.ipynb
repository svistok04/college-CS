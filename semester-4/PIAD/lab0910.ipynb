{
 "cells": [
  {
   "cell_type": "code",
   "execution_count": null,
   "id": "0",
   "metadata": {},
   "outputs": [],
   "source": [
    "import sounddevice as sd\n",
    "import soundfile as sf\n",
    "import matplotlib.pyplot as plt\n",
    "import numpy as np\n",
    "from scipy.fftpack import fft\n",
    "from IPython.display import Audio\n",
    "import IPython\n",
    "import librosa"
   ]
  },
  {
   "cell_type": "code",
   "execution_count": null,
   "id": "1",
   "metadata": {},
   "outputs": [],
   "source": [
    "Audio('audio.wav')"
   ]
  },
  {
   "cell_type": "code",
   "execution_count": null,
   "id": "2",
   "metadata": {},
   "outputs": [],
   "source": [
    "# zad 1.2\n",
    "s, sf = sf.read('audio.wav', dtype='float32')"
   ]
  },
  {
   "cell_type": "code",
   "execution_count": null,
   "id": "3",
   "metadata": {},
   "outputs": [],
   "source": [
    "s.shape"
   ]
  },
  {
   "cell_type": "code",
   "execution_count": null,
   "id": "4",
   "metadata": {},
   "outputs": [],
   "source": [
    "sf"
   ]
  },
  {
   "cell_type": "code",
   "execution_count": null,
   "id": "5",
   "metadata": {},
   "outputs": [],
   "source": [
    "sd.play(s, sf)"
   ]
  },
  {
   "cell_type": "code",
   "execution_count": null,
   "id": "6",
   "metadata": {},
   "outputs": [],
   "source": [
    "sd.stop()"
   ]
  },
  {
   "cell_type": "code",
   "execution_count": null,
   "id": "7",
   "metadata": {},
   "outputs": [],
   "source": [
    "duration_ms = len(s) / sf * 1000\n",
    "duration_ms"
   ]
  },
  {
   "cell_type": "code",
   "execution_count": null,
   "id": "8",
   "metadata": {},
   "outputs": [],
   "source": [
    "# zad 1.3\n",
    "x = np.linspace(0, duration_ms, len(s))\n",
    "plt.plot(x, s)\n",
    "plt.show()"
   ]
  },
  {
   "cell_type": "code",
   "execution_count": null,
   "id": "9",
   "metadata": {},
   "outputs": [],
   "source": [
    "# zad 1.4\n",
    "# dynamika jest odpowiednia i zakres amplitudy jest odpowiednio wykorzystywany, ponieważ \n",
    "# widzimy dużo skoków od niskich wartości do prawie maksymalnej amplitudy.\n",
    "# przesterowanie nie występuje, ponieważ maksymalna wartość amplitudy to około 0.9, \n",
    "# a minimalna to około -0.6.\n",
    "# szumu nie widać"
   ]
  },
  {
   "cell_type": "code",
   "execution_count": null,
   "id": "10",
   "metadata": {},
   "outputs": [],
   "source": [
    "# zad 2.1\n",
    "def windowing(s, sf, window_size_ms):\n",
    "    windows = []\n",
    "    window_size = int(sf * window_size_ms / 1000)\n",
    "    for i in range(len(s) // window_size):\n",
    "        start_index = window_size * i\n",
    "        end_index = window_size + start_index\n",
    "        windows.append(s[start_index:end_index])\n",
    "    return windows\n",
    "\n",
    "def energy_zcr(s, sf, window_size_ms):\n",
    "    windows = windowing(s, sf, window_size_ms)\n",
    "    energies = []\n",
    "    zcrs = []\n",
    "    for window in windows:\n",
    "        energies.append(np.sum([x ** 2 for x in window]))\n",
    "        zcrs.append(np.sum(np.sign(window[:-1] * window[1:]) < 0).astype(int))\n",
    "    energies = np.array(energies)\n",
    "    zcrs = np.array(zcrs)\n",
    "    energies = (energies - energies.min()) / (energies.max() - energies.min())\n",
    "    zcrs = (zcrs - zcrs.min()) / (zcrs.max() - zcrs.min())\n",
    "    return energies, zcrs"
   ]
  },
  {
   "cell_type": "code",
   "execution_count": null,
   "id": "11",
   "metadata": {},
   "outputs": [],
   "source": [
    "# zad 2.2\n",
    "def plot_full(s, sf, duration_ms, energies, zcrs, window_size_ms):\n",
    "    plt.figure(figsize=(12, 6))\n",
    "    x = np.linspace(0, duration_ms, len(s))\n",
    "    plt.plot(x, s, 'g', label='signal')\n",
    "    window_size = int(sf * window_size_ms / 1000)\n",
    "    x = np.linspace(0, duration_ms, len(s) // window_size)\n",
    "    plt.plot(x, energies, 'r', label='energy (normalized)')\n",
    "    plt.plot(x, zcrs, 'b', label='zero-crossing rate')\n",
    "    plt.title(f\"{window_size_ms} ms windows\")\n",
    "    plt.legend()\n",
    "    plt.xlabel('time (ms)')\n",
    "    plt.show()"
   ]
  },
  {
   "cell_type": "code",
   "execution_count": null,
   "id": "12",
   "metadata": {},
   "outputs": [],
   "source": [
    "# zad 2.3\n",
    "# na podstawie poniższych wykresów, zauważyłem, że\n",
    "# energia wskazuje na intensywność sygnału (podobnie jak amplituda), i ona jest większa w obszarach, \n",
    "# gdzię występują samogłoski, ale również dżwięczne samogłoski, np 'n' lub 'm'\n",
    "# niską energię z kolei mają bezdżwięczne samogłoski, np. 't', 's', lub też cisza.\n",
    "# wysoki ZCR wskazuje na intensywne zmiany znaku, co jest charakterystyczne dla spółgłosek bezdzwięcznych, \n",
    "# a niski ZCR - na odwrót.\n",
    "# można rodzielic głoski na podstawie energii i ZCR: \n",
    "# samogłoski i spółgłoski dzwięczne - wysoka energia i niski ZCR, \n",
    "# spółgłoski bezdzięczne - niska energia i wysoki ZCR\n",
    "# aczkolwiek w moim nagraniu też okazało się, że 'd' ma zarówno niską energię jak i niski ZCR, ale to raczej jest tylko przypadek"
   ]
  },
  {
   "cell_type": "code",
   "execution_count": null,
   "id": "13",
   "metadata": {},
   "outputs": [],
   "source": [
    "# zad 2.4\n",
    "energies, zcrs = energy_zcr(s, sf, 5)\n",
    "plot_full(s, sf, duration_ms, energies, zcrs, 5)"
   ]
  },
  {
   "cell_type": "code",
   "execution_count": null,
   "id": "14",
   "metadata": {},
   "outputs": [],
   "source": [
    "energies, zcrs = energy_zcr(s, sf, 20)\n",
    "plot_full(s, sf, duration_ms, energies, zcrs, 20)"
   ]
  },
  {
   "cell_type": "code",
   "execution_count": null,
   "id": "15",
   "metadata": {},
   "outputs": [],
   "source": [
    "energies, zcrs = energy_zcr(s, sf, 50)\n",
    "plot_full(s, sf, duration_ms, energies, zcrs, 50)"
   ]
  },
  {
   "cell_type": "code",
   "execution_count": null,
   "id": "16",
   "metadata": {},
   "outputs": [],
   "source": [
    "# zad 2.5\n",
    "def windowing(s, sf, window_size_ms, overlap):\n",
    "    windows = []\n",
    "    window_size = int(sf * window_size_ms / 1000)\n",
    "    step_size = int(window_size * (1 - overlap))\n",
    "    for start_index in range(0, len(s) - window_size + 1, step_size):\n",
    "        end_index = start_index + window_size\n",
    "        windows.append(s[start_index:end_index])\n",
    "    return windows\n",
    "    \n",
    "def energy_zcr(s, sf, window_size_ms, overlap):\n",
    "    windows = windowing(s, sf, window_size_ms, overlap)\n",
    "    energies = []\n",
    "    zcrs = []\n",
    "    for window in windows:\n",
    "        energies.append(np.sum([x ** 2 for x in window]))\n",
    "        zcrs.append(np.sum(np.sign(window[:-1] * window[1:]) < 0).astype(int))\n",
    "    energies = np.array(energies)\n",
    "    zcrs = np.array(zcrs)\n",
    "    energies = (energies - energies.min()) / (energies.max() - energies.min())\n",
    "    zcrs = (zcrs - zcrs.min()) / (zcrs.max() - zcrs.min())\n",
    "    return energies, zcrs\n",
    "    \n",
    "def plot_full(s, sf, duration_ms, energies, zcrs, window_size_ms, overlap=0):\n",
    "    x = np.linspace(0, duration_ms, len(s))\n",
    "    plt.figure(figsize=(12, 6))\n",
    "    plt.plot(x, s, 'g', label='signal')\n",
    "    \n",
    "    window_size = int(sf * window_size_ms / 1000)\n",
    "    step_size = int(window_size * (1 - overlap))\n",
    "    num_windows = (len(s) - window_size) // step_size + 1\n",
    "    x = np.linspace(0, duration_ms, num_windows)\n",
    "    plt.plot(x, energies, 'r', label='energy (normalized)')\n",
    "    plt.plot(x, zcrs, 'b', label='zero-crossing rate')\n",
    "    plt.title(f\"{window_size_ms} ms windows with {overlap*100}% overlap\")\n",
    "    plt.xlabel('time (ms)')\n",
    "    plt.legend()\n",
    "    plt.show()"
   ]
  },
  {
   "cell_type": "code",
   "execution_count": null,
   "id": "17",
   "metadata": {},
   "outputs": [],
   "source": [
    "energies, zcrs = energy_zcr(s, sf, 5, 0.5)\n",
    "plot_full(s, sf, duration_ms, energies, zcrs, 5, 0.5)\n",
    "# nakładanie ramek pomaga zanalizować sygnał bardziej dokładnie bez zmniejszania czasu trwania ramek\n",
    "# to zapewnia płynne przejścia i precyzyjną analizę"
   ]
  },
  {
   "cell_type": "code",
   "execution_count": null,
   "id": "18",
   "metadata": {},
   "outputs": [],
   "source": [
    "# zad 3.1\n",
    "samogloska_e = s[26908:28956]\n",
    "# samogloska_e = s[40000:44096]\n",
    "sd.play(samogloska_e, sf)\n",
    "samogloska_e.shape"
   ]
  },
  {
   "cell_type": "code",
   "execution_count": null,
   "id": "19",
   "metadata": {},
   "outputs": [],
   "source": [
    "# zad 3.1\n",
    "samogloska_u = s[21080:23128]\n",
    "sd.play(samogloska_u, sf)"
   ]
  },
  {
   "cell_type": "code",
   "execution_count": null,
   "id": "20",
   "metadata": {},
   "outputs": [],
   "source": [
    "# zad 3.1\n",
    "samogloska_i = s[61752:63800]\n",
    "sd.play(samogloska_i, sf)"
   ]
  },
  {
   "cell_type": "code",
   "execution_count": null,
   "id": "21",
   "metadata": {},
   "outputs": [],
   "source": [
    "# zad 3.1\n",
    "samogloska_a = s[49104:51152]\n",
    "sd.play(samogloska_a, sf)"
   ]
  },
  {
   "cell_type": "code",
   "execution_count": null,
   "id": "22",
   "metadata": {},
   "outputs": [],
   "source": [
    "# zad 3.1\n",
    "samogloska_y = s[55818:57866]\n",
    "sd.play(samogloska_y, sf)"
   ]
  },
  {
   "cell_type": "code",
   "execution_count": null,
   "id": "23",
   "metadata": {},
   "outputs": [],
   "source": [
    "# zad 3.1\n",
    "samogloska_o = s[43200:45248]\n",
    "sd.play(samogloska_o, sf)"
   ]
  },
  {
   "cell_type": "code",
   "execution_count": null,
   "id": "24",
   "metadata": {},
   "outputs": [],
   "source": [
    "samogloska = samogloska_a\n",
    "def samogloska_analysis(s, sf=32000):\n",
    "    duration_ms = len(s) / sf * 1000\n",
    "    x = np.linspace(0, duration_ms, len(s))\n",
    "    # zad 3.2\n",
    "    hamming_window = np.hamming(len(s))\n",
    "    masked = s * hamming_window\n",
    "    # zad 3.3\n",
    "    yf = np.log(np.abs(fft(masked)))\n",
    "    xf = np.linspace(0, sf, len(yf))\n",
    "    \n",
    "    fig, axes = plt.subplots(2, 2, figsize=(18, 12))\n",
    "\n",
    "    axes[0, 0].plot(x, s)\n",
    "    axes[0, 0].set_title('Signal')\n",
    "    axes[0, 0].set_xlabel(f'time in ms ({len(s)} samples)')\n",
    "    axes[0, 0].set_ylabel('Amplitude')\n",
    "\n",
    "    axes[0, 1].plot(masked)\n",
    "    axes[0, 1].set_title('Windowed Signal')\n",
    "    axes[0, 1].set_xlabel(f'{len(s)} samples')\n",
    "    axes[0, 1].set_ylabel('Amplitude')\n",
    "\n",
    "    axes[1, 0].plot(xf, yf)\n",
    "    axes[1, 0].set_title(f'Log-Amplitude Spectrum ({sf} Hz)')\n",
    "    axes[1, 0].set_xlabel('Frequency')\n",
    "    axes[1, 0].set_ylabel('Log-Amplitude')\n",
    "\n",
    "    # zad 3.4\n",
    "    x_len = int(len(yf) * 1000 / sf)\n",
    "    xf_1000 = np.linspace(0, 1000, x_len)\n",
    "\n",
    "    axes[1, 1].plot(xf_1000, yf[:x_len])\n",
    "    axes[1, 1].set_title('Log-Amplitude Spectrum (1000 Hz)')\n",
    "    axes[1, 1].set_xlabel('Frequency')\n",
    "    axes[1, 1].set_ylabel('Log-Amplitude')\n",
    "    tick_values = np.arange(0, 1000, 50)\n",
    "    tick_labels = (tick_values).astype(str)\n",
    "    axes[1, 1].set_xticks(tick_values)\n",
    "    axes[1, 1].set_xticklabels(tick_labels)\n",
    "    plt.show()\n",
    "\n",
    "    return yf"
   ]
  },
  {
   "cell_type": "code",
   "execution_count": null,
   "id": "25",
   "metadata": {},
   "outputs": [],
   "source": [
    "print('a')\n",
    "yf_a = samogloska_analysis(samogloska_a, sf)\n",
    "hamming_window = np.hamming(len(samogloska))\n",
    "masked_samogloska = samogloska * hamming_window\n",
    "# zad 3.5\n",
    "# F0 = 130hz, F1 = 270 hz, F2 = 400 hz, F3 = 520 hz, jest dobrze"
   ]
  },
  {
   "cell_type": "code",
   "execution_count": null,
   "id": "26",
   "metadata": {},
   "outputs": [],
   "source": [
    "print('e')\n",
    "yf_e = samogloska_analysis(samogloska_e, sf)\n",
    "# zad 3.5\n",
    "# F0 = 115 hz, F1 = 225 hz, F2 = 330 hz, F3 = 460 hz, jest dobrze"
   ]
  },
  {
   "cell_type": "code",
   "execution_count": null,
   "id": "27",
   "metadata": {},
   "outputs": [],
   "source": [
    "print('i')\n",
    "yf_i = samogloska_analysis(samogloska_i, sf)\n",
    "# zad 3.5\n",
    "# F0 = 130 hz, F1 = 260 hz, F2 = 390 hz, F3 = 480 hz, jest dobrze"
   ]
  },
  {
   "cell_type": "code",
   "execution_count": null,
   "id": "28",
   "metadata": {},
   "outputs": [],
   "source": [
    "print('y')\n",
    "yf_y = samogloska_analysis(samogloska_y, sf)\n",
    "# zad 3.5\n",
    "# F0 = 100 hz, F1 = 200 hz, F2 = 300 hz, F3 = 400 hz, jest dobrze"
   ]
  },
  {
   "cell_type": "code",
   "execution_count": null,
   "id": "29",
   "metadata": {},
   "outputs": [],
   "source": [
    "print('u')\n",
    "yf_u = samogloska_analysis(samogloska_u, sf)\n",
    "# zad 3.5\n",
    "# F0 = 135 hz, F1 = 275 hz, F2 = 400 hz, F3 = 550 hz, jest dobrze"
   ]
  },
  {
   "cell_type": "code",
   "execution_count": null,
   "id": "30",
   "metadata": {},
   "outputs": [],
   "source": [
    "print('o')\n",
    "yf_o = samogloska_analysis(samogloska_o, sf)\n",
    "# zad 3.5\n",
    "# F0 = 50 hz, F1 = 150 hz, F2 = 250 hz, F3 = 400 hz, jest źle"
   ]
  },
  {
   "cell_type": "code",
   "execution_count": null,
   "id": "31",
   "metadata": {},
   "outputs": [],
   "source": [
    "# zad 3.6\n",
    "# Generalnie wszystkie badane głoski (samogłoski 'a', 'e', 'o', 'u', 'e', 'i', 'y') posiadają strukturę harmoniczną. \n",
    "# Widmo głosek dźwięcznych różni się od bezdźwięcznych tym, że bezdźwięczne nie mają częstotliwości harmonicznych na widmie\n",
    "# Dla wszystkich (oprócz 'o') samogłosek harmoniczne są bardzo podobne, jak powinno być.\n",
    "# W języku polskim nie ma bezdźwięcznych samogłosek ani też redukcji samogłosek, jak np. w języku angielskim, \n",
    "# a widma beżdzwięcznych spółgłosek nie sprawdzaliśmy\n",
    "# ale w przypadku mojego nagrania można zauważyć, że 'o' jest bardzo krótka i zredukowana, dlatego jej \n",
    "# widmo wygląda najgorzej, ponieważ harmoniczne nie występują pomyślnie"
   ]
  },
  {
   "cell_type": "code",
   "execution_count": null,
   "id": "32",
   "metadata": {},
   "outputs": [],
   "source": [
    "# zad 4.1\n",
    "okno = samogloska_e\n",
    "# zad 4.2\n",
    "p = 20\n",
    "a = librosa.lpc(okno, order=p)"
   ]
  },
  {
   "cell_type": "code",
   "execution_count": null,
   "id": "33",
   "metadata": {},
   "outputs": [],
   "source": [
    "# zad 4.3\n",
    "# Linear Predictive Coding (LPC) służy do przetwarzania sygnałów audio i mowy, a szczególnie do znajdowania tzw. formantów na widmie.\n",
    "# Formanty to są harmoniczne o zwiększonej amplitudzie (w porównianiu do sąsiednich). Ponieważ różne samogłoski posiadają rożne formanty,\n",
    "# można w ten sposób zidentyfikować samogłóskę"
   ]
  },
  {
   "cell_type": "code",
   "execution_count": null,
   "id": "34",
   "metadata": {},
   "outputs": [],
   "source": [
    "# zad 4.4\n",
    "extended = np.zeros(len(okno))\n",
    "extended[:21] = a"
   ]
  },
  {
   "cell_type": "code",
   "execution_count": null,
   "id": "35",
   "metadata": {},
   "outputs": [],
   "source": [
    "# zad 4.5\n",
    "moLPC = np.log(np.abs(fft(extended)))\n",
    "moLPC = moLPC * (-1)\n",
    "moLPC = moLPC - 0.45"
   ]
  },
  {
   "cell_type": "code",
   "execution_count": null,
   "id": "36",
   "metadata": {},
   "outputs": [],
   "source": [
    "yf = np.log(np.abs(fft(samogloska_e)))\n",
    "freq_axis = np.fft.fftfreq(len(okno), 1 / sf)\n",
    "plt.plot(freq_axis[:300], moLPC[:300], c='r')\n",
    "plt.plot(freq_axis[:300], yf[:300], c='b')\n",
    "tick_values = np.arange(0, 4501, 300)\n",
    "tick_labels = (tick_values / 1000).astype(str)  \n",
    "plt.xticks(tick_values, tick_labels)\n",
    "plt.title('e')\n",
    "plt.show()\n",
    "# nie udało się prawidłowo rozpoznać samogłoski 'e', F1 = 300 i F2 = 1400"
   ]
  },
  {
   "cell_type": "code",
   "execution_count": null,
   "id": "37",
   "metadata": {},
   "outputs": [],
   "source": [
    "okno = samogloska_a\n",
    "p = 60\n",
    "a = librosa.lpc(okno, order=p)\n",
    "extended = np.zeros(len(okno))\n",
    "extended[:61] = a\n",
    "moLPC = np.log(np.abs(fft(extended)))\n",
    "moLPC = moLPC * (-1)\n",
    "moLPC = moLPC - 1.05\n",
    "yf = np.log(np.abs(fft(samogloska_a)))\n",
    "freq_axis = np.fft.fftfreq(len(okno), 1 / sf)\n",
    "plt.plot(freq_axis[:120], moLPC[:120], c='r')\n",
    "plt.plot(freq_axis[:120], yf[:120], c='b')\n",
    "tick_values = np.arange(0, 1801, 150)  # Original tick values\n",
    "tick_labels = (tick_values / 1000).astype(str)  # Convert to labels in thousands\n",
    "\n",
    "# Set custom ticks and labels\n",
    "plt.xticks(tick_values, tick_labels)\n",
    "plt.title('a')\n",
    "plt.show()\n",
    "# nie udało się rozpoznać samogłoskę 'a' w F1 = 200 hz i F2 = 700 hz"
   ]
  },
  {
   "cell_type": "code",
   "execution_count": null,
   "id": "38",
   "metadata": {},
   "outputs": [],
   "source": [
    "okno = samogloska_y\n",
    "p = 20\n",
    "a = librosa.lpc(okno, order=p)\n",
    "extended = np.zeros(len(okno))\n",
    "extended[:21] = a\n",
    "moLPC = np.log(np.abs(fft(extended)))\n",
    "moLPC = moLPC * (-1)\n",
    "moLPC = moLPC - 1.1\n",
    "yf = np.log(np.abs(fft(samogloska_y)))\n",
    "freq_axis = np.fft.fftfreq(len(okno), 1 / sf)\n",
    "plt.plot(freq_axis[:200], moLPC[:200], c='r')\n",
    "plt.plot(freq_axis[:200], yf[:200], c='b')\n",
    "plt.title('y')\n",
    "tick_values = np.arange(0, 3001, 200)\n",
    "tick_labels = (tick_values / 1000).astype(str) \n",
    "plt.xticks(tick_values, tick_labels)\n",
    "plt.show()\n",
    "# udało się rozpoznać samogłoskę 'y' w F1 = 250 Hz i F2 = 2100 Hz"
   ]
  },
  {
   "cell_type": "code",
   "execution_count": null,
   "id": "39",
   "metadata": {},
   "outputs": [],
   "source": [
    "okno = samogloska_o\n",
    "p = 50\n",
    "a = librosa.lpc(okno, order=p)\n",
    "extended = np.zeros(len(okno))\n",
    "extended[:51] = a\n",
    "moLPC = np.log(np.abs(fft(extended)))\n",
    "moLPC = moLPC * (-1)\n",
    "moLPC = moLPC - 0.8\n",
    "yf = np.log(np.abs(fft(samogloska_o)))\n",
    "freq_axis = np.fft.fftfreq(len(okno), 1 / sf)\n",
    "plt.plot(freq_axis[:200], moLPC[:200], c='r')\n",
    "plt.plot(freq_axis[:200], yf[:200], c='b')\n",
    "plt.title('o')\n",
    "tick_values = np.arange(0, 3001, 200)\n",
    "tick_labels = (tick_values / 1000).astype(str) \n",
    "plt.xticks(tick_values, tick_labels)\n",
    "plt.show()\n",
    "# nie udało się rozpoznać samogłoski 'o', F1 = 200, F2 = 600 hz), bo okazała się bardzo krótka/zredukowana"
   ]
  },
  {
   "cell_type": "code",
   "execution_count": null,
   "id": "40",
   "metadata": {},
   "outputs": [],
   "source": [
    "okno = samogloska_i\n",
    "p = 50\n",
    "a = librosa.lpc(okno, order=p)\n",
    "extended = np.zeros(len(okno))\n",
    "extended[:51] = a\n",
    "moLPC = np.log(np.abs(fft(extended)))\n",
    "moLPC = moLPC * (-1)\n",
    "moLPC = moLPC - 1.7\n",
    "yf = np.log(np.abs(fft(samogloska_i)))\n",
    "freq_axis = np.fft.fftfreq(len(okno), 1 / sf)\n",
    "plt.plot(freq_axis[:300], moLPC[:300], c='r')\n",
    "plt.plot(freq_axis[:300], yf[:300], c='b')\n",
    "tick_values = np.arange(0, 4600, 300)\n",
    "tick_labels = (tick_values / 1000).astype(str) \n",
    "plt.xticks(tick_values, tick_labels)\n",
    "plt.title('i')\n",
    "plt.show()\n",
    "# prawie udało się rozpoznać samogłoskę 'i' w F1 = 200 Hz i F2 = 1500 Hz"
   ]
  },
  {
   "cell_type": "code",
   "execution_count": null,
   "id": "41",
   "metadata": {},
   "outputs": [],
   "source": [
    "okno = samogloska_u\n",
    "p = 50\n",
    "a = librosa.lpc(okno, order=p)\n",
    "extended = np.zeros(len(okno))\n",
    "extended[:51] = a\n",
    "moLPC = np.log(np.abs(fft(extended)))\n",
    "moLPC = moLPC * (-1)\n",
    "moLPC = moLPC - 1.5\n",
    "yf = np.log(np.abs(fft(samogloska_u)))\n",
    "freq_axis = np.fft.fftfreq(len(okno), 1 / sf)\n",
    "plt.plot(freq_axis[:200], moLPC[:200], c='r')\n",
    "plt.plot(freq_axis[:200], yf[:200], c='b')\n",
    "plt.title('u')\n",
    "tick_values = np.arange(0, 3001, 200)  # Original tick values\n",
    "tick_labels = (tick_values / 1000).astype(str)  # Convert to labels in thousands\n",
    "plt.xticks(tick_values, tick_labels)\n",
    "plt.show()\n",
    "# nie udało się rozpoznać samogłoskę 'u' w F1 = 200 Hz i F2 = 400 Hz "
   ]
  },
  {
   "cell_type": "code",
   "execution_count": null,
   "id": "42",
   "metadata": {},
   "outputs": [],
   "source": [
    "# sprawdzenie z AI\n",
    "import soundfile as sf"
   ]
  },
  {
   "cell_type": "code",
   "execution_count": null,
   "id": "43",
   "metadata": {},
   "outputs": [],
   "source": [
    "s, _ = sf.read('e.wav')\n",
    "e = s[200:2248]\n",
    "okno = e\n",
    "p = 60\n",
    "a = librosa.lpc(okno, order=p)\n",
    "extended = np.zeros(len(okno))\n",
    "extended[:61] = a\n",
    "moLPC = np.log(np.abs(fft(extended)))\n",
    "moLPC = moLPC * (-1)\n",
    "moLPC = moLPC - 2.1\n",
    "yf = np.log(np.abs(fft(samogloska_u)))\n",
    "freq_axis = np.fft.fftfreq(len(okno), 1 / 48000)\n",
    "plt.plot(freq_axis[:150], moLPC[:150], c='r')\n",
    "plt.plot(freq_axis[:150], yf[:150], c='b')\n",
    "plt.title('e')\n",
    "tick_values = np.arange(0, 3601, 200)  # Original tick values\n",
    "tick_labels = (tick_values / 1000).astype(str)  # Convert to labels in thousands\n",
    "plt.xticks(tick_values, tick_labels)\n",
    "plt.show()\n",
    "# udało się rozpoznać samogłoskę 'e' w F1 = 500 i F2 = 1600 hz\n",
    "Audio('e.wav')"
   ]
  },
  {
   "cell_type": "code",
   "execution_count": null,
   "id": "44",
   "metadata": {},
   "outputs": [],
   "source": [
    "s, _ = sf.read('o.wav')\n",
    "o = s[1000:3048]\n",
    "okno = o\n",
    "p = 50\n",
    "a = librosa.lpc(okno, order=p)\n",
    "extended = np.zeros(len(okno))\n",
    "extended[:51] = a\n",
    "moLPC = np.log(np.abs(fft(extended)))\n",
    "moLPC = moLPC * (-1)\n",
    "moLPC = moLPC - 3.0\n",
    "yf = np.log(np.abs(fft(samogloska_u)))\n",
    "freq_axis = np.fft.fftfreq(len(okno), 1 / 48000)\n",
    "plt.plot(freq_axis[:200], moLPC[:200], c='r')\n",
    "plt.plot(freq_axis[:200], yf[:200], c='b')\n",
    "plt.title('o')\n",
    "tick_values = np.arange(0, 4501, 300)  # Original tick values\n",
    "tick_labels = (tick_values / 1000).astype(str)  # Convert to labels in thousands\n",
    "plt.xticks(tick_values, tick_labels)\n",
    "plt.show()\n",
    "# prawie udało się rozpoznać samogłoskę 'o' w F1 = 500 i F2 = 1100 hz, ale PLC wygląda źle\n",
    "Audio('o.wav')"
   ]
  },
  {
   "cell_type": "code",
   "execution_count": null,
   "id": "45",
   "metadata": {},
   "outputs": [],
   "source": [
    "s, _ = sf.read('i.wav')\n",
    "i = s[1000:3048]\n",
    "okno = i\n",
    "p = 30\n",
    "a = librosa.lpc(okno, order=p)\n",
    "extended = np.zeros(len(okno))\n",
    "extended[:31] = a\n",
    "moLPC = np.log(np.abs(fft(extended)))\n",
    "moLPC = moLPC * (-1)\n",
    "moLPC = moLPC - 2.9\n",
    "yf = np.log(np.abs(fft(samogloska_u)))\n",
    "freq_axis = np.fft.fftfreq(len(okno), 1 / 48000)\n",
    "plt.plot(freq_axis[:120], moLPC[:120], c='r')\n",
    "plt.plot(freq_axis[:120], yf[:120], c='b')\n",
    "plt.title('i')\n",
    "tick_values = np.arange(0, 3001, 200)  # Original tick values\n",
    "tick_labels = (tick_values / 1000).astype(str)  # Convert to labels in thousands\n",
    "plt.xticks(tick_values, tick_labels)\n",
    "plt.show()\n",
    "# \"udało się\" rozpoznać samogłoskę 'i' w F1 = 200 i F2 = 2500 hz, ale PLC jest źly\n",
    "Audio('i.wav')"
   ]
  },
  {
   "cell_type": "code",
   "execution_count": null,
   "id": "46",
   "metadata": {},
   "outputs": [],
   "source": [
    "s, _ = sf.read('u.wav')\n",
    "u = s[1000:3048]\n",
    "okno = u\n",
    "p = 50\n",
    "a = librosa.lpc(okno, order=p)\n",
    "extended = np.zeros(len(okno))\n",
    "extended[:51] = a\n",
    "moLPC = np.log(np.abs(fft(extended)))\n",
    "moLPC = moLPC * (-1)\n",
    "moLPC = moLPC - 3.9\n",
    "yf = np.log(np.abs(fft(samogloska_u)))\n",
    "freq_axis = np.fft.fftfreq(len(okno), 1 / 48000)\n",
    "plt.plot(freq_axis[:100], moLPC[:100], c='r')\n",
    "plt.plot(freq_axis[:100], yf[:100], c='b')\n",
    "plt.title('u')\n",
    "tick_values = np.arange(0, 2001, 200)\n",
    "tick_labels = (tick_values / 1000).astype(str)\n",
    "plt.xticks(tick_values, tick_labels)\n",
    "plt.show()\n",
    "# prawie udało się rozpoznać samogłoskę 'u' w F1 = 400 i F2 = 1100 hz\n",
    "Audio('u.wav')"
   ]
  },
  {
   "cell_type": "code",
   "execution_count": null,
   "id": "47",
   "metadata": {},
   "outputs": [],
   "source": [
    "# zauważyłem, że parameter 'order' w funkcji lpc z librosa wpływa na wykrywanie formant. zbyt niska wartość może \n",
    "# skutkować utratą formant. wysoka wartość może skutkować fałszywymi formantami, np. szumem przypadkowymi wibracjami."
   ]
  },
  {
   "cell_type": "code",
   "execution_count": null,
   "id": "48",
   "metadata": {},
   "outputs": [],
   "source": []
  }
 ],
 "metadata": {
  "kernelspec": {
   "display_name": "Python 3 (ipykernel)",
   "language": "python",
   "name": "python3"
  },
  "language_info": {
   "codemirror_mode": {
    "name": "ipython",
    "version": 3
   },
   "file_extension": ".py",
   "mimetype": "text/x-python",
   "name": "python",
   "nbconvert_exporter": "python",
   "pygments_lexer": "ipython3",
   "version": "3.10.12"
  }
 },
 "nbformat": 4,
 "nbformat_minor": 5
}
