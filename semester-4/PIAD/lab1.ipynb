{
 "cells": [
  {
   "cell_type": "code",
   "execution_count": null,
   "id": "0",
   "metadata": {},
   "outputs": [],
   "source": [
    "import numpy as np\n",
    "# tablice\n",
    "a = np.array([1,2,3,4,5,6,7])\n",
    "b = np.array([[1,2,3,4,5], [6,7,8,9,10]])\n",
    "print(np.transpose(b))\n",
    "c = np.arange(100)\n",
    "print(c)\n",
    "d = np.linspace(0, 2, 10)\n",
    "print(d)\n",
    "e = np.arange(0, 101, 5)\n",
    "print(e)"
   ]
  },
  {
   "cell_type": "code",
   "execution_count": null,
   "id": "1",
   "metadata": {},
   "outputs": [],
   "source": [
    "import numpy as np\n",
    "#liczby losowe\n",
    "a = np.around(np.random.normal(0, 1, 20), 2)\n",
    "print(a)\n",
    "b = np.random.randint(1, 1000, 100)\n",
    "print(b)\n",
    "c = np.zeros((3, 2))\n",
    "print(c)\n",
    "d = np.ones((3, 2))\n",
    "print(d)\n",
    "e = np.random.randint(np.iinfo(np.int32).min, np.iinfo(np.int32).max ,size=(5, 5), dtype=np.int32)\n",
    "print(e)\n",
    "#zadania\n",
    "a = np.random.uniform(0, 10, 10)\n",
    "b = a.astype(np.int32)\n",
    "a = np.rint(b).astype(np.int32)\n",
    "print(a)\n",
    "print(b)\n",
    "print(a == b)"
   ]
  },
  {
   "cell_type": "code",
   "execution_count": null,
   "id": "2",
   "metadata": {},
   "outputs": [],
   "source": [
    "import numpy as np\n",
    "#selekcja danych\n",
    "b = np.array([[1,2,3,4,5], [6,7,8,9,10]], dtype = np.int32)\n",
    "print(np.ndim(b))\n",
    "print(np.size(b))\n",
    "print(b[0, 1], b[0, 3])\n",
    "print(b[0])\n",
    "print(b[:, 0])\n",
    "a = np.random.randint(0, 101, (20, 7))\n",
    "print(a)\n",
    "print(a[:, :4])"
   ]
  },
  {
   "cell_type": "raw",
   "id": "3",
   "metadata": {},
   "source": []
  },
  {
   "cell_type": "code",
   "execution_count": null,
   "id": "4",
   "metadata": {},
   "outputs": [],
   "source": [
    "import numpy as np\n",
    "#operacje matematyczne i logiczne\n",
    "a = np.random.uniform(0, 10, (3,3))\n",
    "b = np.random.uniform(0, 10, (3,3))\n",
    "print(a)\n",
    "print(b)\n",
    "print('dodawanie', a+b)\n",
    "print('mnożenie', a*b)\n",
    "print('dzielenie', a/b)\n",
    "print('potęgowanie', a**b)\n",
    "print(a > 4)\n",
    "print(a.all() >= 1 and a.all() <= 4)\n",
    "print(np.trace(b))"
   ]
  },
  {
   "cell_type": "code",
   "execution_count": null,
   "id": "5",
   "metadata": {},
   "outputs": [],
   "source": [
    "import numpy as np\n",
    "#dane statystyczzne\n",
    "b = np.random.uniform(0, 10, (3,3))\n",
    "print(b)\n",
    "print(np.min(b))\n",
    "print(np.max(b))\n",
    "print(np.std(b))\n",
    "print(np.mean(b, axis=1))"
   ]
  },
  {
   "cell_type": "code",
   "execution_count": null,
   "id": "6",
   "metadata": {},
   "outputs": [],
   "source": [
    "import numpy as np\n",
    "#rzutowanie wymiarów\n",
    "a = np.random.random(50)\n",
    "print(a)\n",
    "print(a.reshape((10, 5)))\n",
    "a = np.resize(a, (10, 5))\n",
    "print(a)\n",
    "print(a.ravel())\n",
    "b = np.random.random(5)\n",
    "print(b)\n",
    "c = np.random.random(4)\n",
    "print(c)\n",
    "# print(b+c)\n",
    "b = b[:, np.newaxis]\n",
    "print(b)\n",
    "print(b+c)"
   ]
  },
  {
   "cell_type": "code",
   "execution_count": null,
   "id": "7",
   "metadata": {},
   "outputs": [],
   "source": [
    "import numpy as np\n",
    "#sortowanie danych\n",
    "a = np.random.randn(5, 5)\n",
    "print(a)\n",
    "a = np.sort(a, axis=0) # rows\n",
    "print(a)\n",
    "a = np.sort(a, axis=1)[:, ::-1] # cols\n",
    "print(a)\n",
    "\n",
    "b = np.array([(1, 'MZ', 'mazowieckie'), (2, 'ZP', 'zachodniopomorskie'), (3, 'ML', 'małopolskie')])\n",
    "print(b.ndim)\n",
    "print(b.size)"
   ]
  },
  {
   "cell_type": "code",
   "execution_count": null,
   "id": "8",
   "metadata": {},
   "outputs": [],
   "source": [
    "import numpy as np\n",
    "#zadanie 1\n",
    "a = np.random.randint(-1000, 1000, (10, 5))\n",
    "print(np.trace(a))\n",
    "print(np.diag(a))"
   ]
  },
  {
   "cell_type": "code",
   "execution_count": null,
   "id": "9",
   "metadata": {},
   "outputs": [],
   "source": [
    "import numpy as np\n",
    "#zadanie 2\n",
    "a = np.random.normal(0, 1, 5)\n",
    "b = np.random.normal(0, 1, 5)\n",
    "print(a * b)"
   ]
  },
  {
   "cell_type": "code",
   "execution_count": null,
   "id": "10",
   "metadata": {},
   "outputs": [],
   "source": [
    "import numpy as np\n",
    "#zadanie 3\n",
    "a = np.random.randint(1, 101, 5)\n",
    "b = np.random.randint(1, 101, 5)\n",
    "print(a)\n",
    "print(b)\n",
    "a = a[:, np.newaxis]\n",
    "print(a)\n",
    "print(a+b)"
   ]
  },
  {
   "cell_type": "code",
   "execution_count": null,
   "id": "11",
   "metadata": {},
   "outputs": [],
   "source": [
    "import numpy as np\n",
    "#zadanie 4\n",
    "a = np.random.randint(1, 101, (4, 5))\n",
    "b = np.random.randint(1, 101, (5, 4))\n",
    "a = a.T # a.reshape(5, 4)\n",
    "print(a+b)\n",
    "#zadanie 5 \n",
    "print(a[:, 2] * b[:, 3])"
   ]
  },
  {
   "cell_type": "code",
   "execution_count": null,
   "id": "12",
   "metadata": {},
   "outputs": [],
   "source": [
    "import numpy as np\n",
    "#zadanie 6\n",
    "a = np.random.normal(size=(3, 3))\n",
    "b = np.random.uniform(size=(3, 3))\n",
    "print(np.mean(a), np.std(a), np.var(a))\n",
    "print(np.mean(b), np.std(b), np.var(b))\n"
   ]
  },
  {
   "cell_type": "code",
   "execution_count": null,
   "id": "13",
   "metadata": {},
   "outputs": [],
   "source": [
    "import numpy as np\n",
    "#zadanie 7\n",
    "a = np.random.randint(1, 10, size=(3, 3))\n",
    "b = np.random.randint(1, 10, size=(3, 3))\n",
    "print(a)\n",
    "print(b)\n",
    "print(a*b) # mnozenie element po elemencie, na przyklad gdy chcemy pomnozyc kazdy element prez pewne skalary\n",
    "print(np.dot(a, b)) # standardowe mnozenie macierzowe"
   ]
  },
  {
   "cell_type": "code",
   "execution_count": null,
   "id": "14",
   "metadata": {},
   "outputs": [],
   "source": [
    "import numpy as np\n",
    "#zadanie 8\n",
    "a = np.random.randint(1, 51, (6, 6))\n",
    "print(a)\n",
    "b = np.lib.stride_tricks.as_strided(a, shape=(3, 5), strides=a.strides)\n",
    "print(b)\n",
    "print(a.strides)"
   ]
  },
  {
   "cell_type": "code",
   "execution_count": null,
   "id": "15",
   "metadata": {},
   "outputs": [],
   "source": [
    "import numpy as np\n",
    "#zadanie 9\n",
    "a = np.arange(5)\n",
    "b = np.arange(5)\n",
    "print(np.vstack((a, b))) # laczanie pionowo, czyli dodanie nowych wierszy\n",
    "                         # jest przydatne, na przyklad, gdy dodawane sa nowe dane z tymi samymi atrybutami\n",
    "print(np.hstack((a, b))) # laczanie poziomowo, czyli dodanie nowych kolumn\n",
    "                         # jest przydatne, na przykald, gdy dodawane sa nowe atrybuty dla calego zestawu danych"
   ]
  },
  {
   "cell_type": "code",
   "execution_count": null,
   "id": "16",
   "metadata": {},
   "outputs": [],
   "source": [
    "import numpy as np\n",
    "# zadanie 10\n",
    "a = np.arange(24).reshape(4, 6)\n",
    "print(a)\n",
    "print(np.max(np.lib.stride_tricks.as_strided(a, shape=(2, 3), strides=a.strides)))\n",
    "print(np.max(np.lib.stride_tricks.as_strided(a[:, 3:], shape=(2, 3), strides=a.strides)))\n",
    "print(np.max(np.lib.stride_tricks.as_strided(a[2:, :], shape=(2, 3), strides=a.strides)))\n",
    "print(np.max(np.lib.stride_tricks.as_strided(a[2:, 3:], shape=(2, 3), strides=a.strides)))"
   ]
  },
  {
   "cell_type": "code",
   "execution_count": null,
   "id": "17",
   "metadata": {},
   "outputs": [],
   "source": []
  }
 ],
 "metadata": {
  "kernelspec": {
   "display_name": "Python 3 (ipykernel)",
   "language": "python",
   "name": "python3"
  },
  "language_info": {
   "codemirror_mode": {
    "name": "ipython",
    "version": 3
   },
   "file_extension": ".py",
   "mimetype": "text/x-python",
   "name": "python",
   "nbconvert_exporter": "python",
   "pygments_lexer": "ipython3",
   "version": "3.10.12"
  }
 },
 "nbformat": 4,
 "nbformat_minor": 5
}
