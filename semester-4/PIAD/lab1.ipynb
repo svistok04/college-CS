{
 "cells": [
  {
   "cell_type": "code",
   "execution_count": 7,
   "id": "6e0bcbbc-25f8-499f-86c2-52ee568e59f8",
   "metadata": {},
   "outputs": [
    {
     "name": "stdout",
     "output_type": "stream",
     "text": [
      "[[ 1  6]\n",
      " [ 2  7]\n",
      " [ 3  8]\n",
      " [ 4  9]\n",
      " [ 5 10]]\n",
      "[ 0  1  2  3  4  5  6  7  8  9 10 11 12 13 14 15 16 17 18 19 20 21 22 23\n",
      " 24 25 26 27 28 29 30 31 32 33 34 35 36 37 38 39 40 41 42 43 44 45 46 47\n",
      " 48 49 50 51 52 53 54 55 56 57 58 59 60 61 62 63 64 65 66 67 68 69 70 71\n",
      " 72 73 74 75 76 77 78 79 80 81 82 83 84 85 86 87 88 89 90 91 92 93 94 95\n",
      " 96 97 98 99]\n",
      "[0.         0.22222222 0.44444444 0.66666667 0.88888889 1.11111111\n",
      " 1.33333333 1.55555556 1.77777778 2.        ]\n",
      "[  0   5  10  15  20  25  30  35  40  45  50  55  60  65  70  75  80  85\n",
      "  90  95 100]\n"
     ]
    }
   ],
   "source": [
    "import numpy as np\n",
    "# tablice\n",
    "a = np.array([1,2,3,4,5,6,7])\n",
    "b = np.array([[1,2,3,4,5], [6,7,8,9,10]])\n",
    "print(np.transpose(b))\n",
    "c = np.arange(100)\n",
    "print(c)\n",
    "d = np.linspace(0, 2, 10)\n",
    "print(d)\n",
    "e = np.arange(0, 101, 5)\n",
    "print(e)"
   ]
  },
  {
   "cell_type": "code",
   "execution_count": 35,
   "id": "47ea199f-5289-4dc6-b1c6-7372bedf4a33",
   "metadata": {},
   "outputs": [
    {
     "name": "stdout",
     "output_type": "stream",
     "text": [
      "[-0.66 -1.32  0.57  0.04 -0.06  0.32  2.12  0.46  0.14  0.07 -1.49  0.25\n",
      "  0.65 -0.64  1.13  0.04 -1.74 -1.6   1.24  0.58]\n",
      "[421 440 313 433 676 828 781 305 366 799 631 734 381 634 252 234 292 899\n",
      " 707 286 663 973 418 508 719 782 947 528 818 524 241 750 181 613  35 396\n",
      " 207 433  24 601 482 164 551 241 386 892 206 196 134 389 905 866 583 537\n",
      " 617 514 693 534 956 116 390 840 204  49   3 128 894 308  72  69 750 933\n",
      " 540 619 812 899 432  86 630 255 464 840 352 367 111 477 959 964 193 752\n",
      " 179 449 745 613 773 554 432  11 858 283]\n",
      "[[0. 0.]\n",
      " [0. 0.]\n",
      " [0. 0.]]\n",
      "[[1. 1.]\n",
      " [1. 1.]\n",
      " [1. 1.]]\n",
      "[[-2127370018 -1956191257  1417429892 -1957276345  1621747145]\n",
      " [ 1711214402  1888456972  -401566008   264377898  -920265258]\n",
      " [ 1236748093    98698137 -1398984169  1164815052 -1141718632]\n",
      " [ -261351459 -1998255830 -1311223278   613453962  -901847887]\n",
      " [ 1619006425 -1545897221  1688820464 -1284134435  -169862547]]\n",
      "[0 5 1 0 6 8 6 3 0 5]\n",
      "[0 5 1 0 6 8 6 3 0 5]\n",
      "[ True  True  True  True  True  True  True  True  True  True]\n"
     ]
    }
   ],
   "source": [
    "import numpy as np\n",
    "#liczby losowe\n",
    "a = np.around(np.random.normal(0, 1, 20), 2)\n",
    "print(a)\n",
    "b = np.random.randint(1, 1000, 100)\n",
    "print(b)\n",
    "c = np.zeros((3, 2))\n",
    "print(c)\n",
    "d = np.ones((3, 2))\n",
    "print(d)\n",
    "e = np.random.randint(np.iinfo(np.int32).min, np.iinfo(np.int32).max ,size=(5, 5), dtype=np.int32)\n",
    "print(e)\n",
    "#zadania\n",
    "a = np.random.uniform(0, 10, 10)\n",
    "b = a.astype(np.int32)\n",
    "a = np.rint(b).astype(np.int32)\n",
    "print(a)\n",
    "print(b)\n",
    "print(a == b)"
   ]
  },
  {
   "cell_type": "code",
   "execution_count": 45,
   "id": "ca3ed2e2-98c3-4e29-9846-d7b81a896b9e",
   "metadata": {},
   "outputs": [
    {
     "name": "stdout",
     "output_type": "stream",
     "text": [
      "2\n",
      "10\n",
      "2 4\n",
      "[1 2 3 4 5]\n",
      "[1 6]\n",
      "[[  3  87  84  50  67  67  29]\n",
      " [ 97  27  50  31   2  90  94]\n",
      " [ 10   9  44  95  28  74  32]\n",
      " [ 86  21  38  20  55  31  94]\n",
      " [ 87  66  47  24  63  79  49]\n",
      " [ 19  12  13  46  37  41  77]\n",
      " [ 32  57  87  88  99  57  11]\n",
      " [ 59   2  10 100  24  45  69]\n",
      " [ 17  51  40  68  22   0  43]\n",
      " [  3  80  27   2  32  89  94]\n",
      " [ 47  37  89  52  38  35  70]\n",
      " [ 65   7  96  96  85  38  48]\n",
      " [ 79  34  97  53  74  21  72]\n",
      " [ 93  59  16  13   6  23  24]\n",
      " [ 34  16  23  30  91  59  85]\n",
      " [ 76  82   6  68  11  81  15]\n",
      " [ 58  48  17  31  91  96  84]\n",
      " [  3  73   2  57  86  79  71]\n",
      " [ 40   0 100  82  31  45  43]\n",
      " [ 92   3  52  11  79  69  99]]\n",
      "[[  3  87  84  50]\n",
      " [ 97  27  50  31]\n",
      " [ 10   9  44  95]\n",
      " [ 86  21  38  20]\n",
      " [ 87  66  47  24]\n",
      " [ 19  12  13  46]\n",
      " [ 32  57  87  88]\n",
      " [ 59   2  10 100]\n",
      " [ 17  51  40  68]\n",
      " [  3  80  27   2]\n",
      " [ 47  37  89  52]\n",
      " [ 65   7  96  96]\n",
      " [ 79  34  97  53]\n",
      " [ 93  59  16  13]\n",
      " [ 34  16  23  30]\n",
      " [ 76  82   6  68]\n",
      " [ 58  48  17  31]\n",
      " [  3  73   2  57]\n",
      " [ 40   0 100  82]\n",
      " [ 92   3  52  11]]\n"
     ]
    }
   ],
   "source": [
    "import numpy as np\n",
    "#selekcja danych\n",
    "b = np.array([[1,2,3,4,5], [6,7,8,9,10]], dtype = np.int32)\n",
    "print(np.ndim(b))\n",
    "print(np.size(b))\n",
    "print(b[0, 1], b[0, 3])\n",
    "print(b[0])\n",
    "print(b[:, 0])\n",
    "a = np.random.randint(0, 101, (20, 7))\n",
    "print(a)\n",
    "print(a[:, :4])"
   ]
  },
  {
   "cell_type": "raw",
   "id": "7dc2b585-cf32-4a29-ad10-6521b7870e0b",
   "metadata": {},
   "source": []
  },
  {
   "cell_type": "code",
   "execution_count": 64,
   "id": "452d117a-65d7-41bd-89c0-b8caa5e3d209",
   "metadata": {},
   "outputs": [
    {
     "name": "stdout",
     "output_type": "stream",
     "text": [
      "[[6.35788451 7.24760184 5.0387683 ]\n",
      " [7.50778893 8.26651387 2.88874697]\n",
      " [9.27147382 5.96395693 2.50990433]]\n",
      "[[9.87619901 0.67135585 9.35028777]\n",
      " [6.1750483  4.65229397 8.54717939]\n",
      " [9.773989   6.50354229 6.35054236]]\n",
      "dodawanie [[16.23408352  7.91895769 14.38905607]\n",
      " [13.68283723 12.91880784 11.43592636]\n",
      " [19.04546282 12.46749923  8.8604467 ]]\n",
      "mnożenie [[62.79173271  4.86571989 47.11393358]\n",
      " [46.3609593  38.45825263 24.69063858]\n",
      " [90.61928314 38.78684616 15.9392538 ]]\n",
      "dzielenie [[ 0.64375824 10.79546985  0.53888911]\n",
      " [ 1.21582675  1.77686834  0.33797664]\n",
      " [ 0.94858648  0.91703208  0.39522677]]\n",
      "potęgowanie [[8.58371817e+07 3.78004085e+00 3.68922495e+06]\n",
      " [2.54876167e+05 1.85205323e+04 8.66496415e+03]\n",
      " [2.83727545e+09 1.10591414e+05 3.45175354e+02]]\n",
      "[[ True  True  True]\n",
      " [ True  True False]\n",
      " [ True  True False]]\n",
      "True\n",
      "20.87903534663872\n"
     ]
    }
   ],
   "source": [
    "import numpy as np\n",
    "#operacje matematyczne i logiczne\n",
    "a = np.random.uniform(0, 10, (3,3))\n",
    "b = np.random.uniform(0, 10, (3,3))\n",
    "print(a)\n",
    "print(b)\n",
    "print('dodawanie', a+b)\n",
    "print('mnożenie', a*b)\n",
    "print('dzielenie', a/b)\n",
    "print('potęgowanie', a**b)\n",
    "print(a > 4)\n",
    "print(a.all() >= 1 and a.all() <= 4)\n",
    "print(np.trace(b))"
   ]
  },
  {
   "cell_type": "code",
   "execution_count": 67,
   "id": "67ada143-89fe-46dd-ac1d-8a29f802deb4",
   "metadata": {},
   "outputs": [
    {
     "name": "stdout",
     "output_type": "stream",
     "text": [
      "[[9.54926166 6.43723844 3.59876423]\n",
      " [0.0278494  6.45355956 4.88085027]\n",
      " [2.34351424 3.18802426 2.28778039]]\n",
      "0.027849396741145283\n",
      "9.549261656794837\n",
      "2.686459921562885\n",
      "[6.52842144 3.78741974 2.60643963]\n"
     ]
    }
   ],
   "source": [
    "import numpy as np\n",
    "#dane statystyczzne\n",
    "b = np.random.uniform(0, 10, (3,3))\n",
    "print(b)\n",
    "print(np.min(b))\n",
    "print(np.max(b))\n",
    "print(np.std(b))\n",
    "print(np.mean(b, axis=1))"
   ]
  },
  {
   "cell_type": "code",
   "execution_count": 11,
   "id": "dc603d94-4ef4-44d4-9903-aeb56e6c1f6a",
   "metadata": {},
   "outputs": [
    {
     "name": "stdout",
     "output_type": "stream",
     "text": [
      "[0.5619365  0.11158288 0.97917963 0.74423961 0.78397525 0.91125917\n",
      " 0.02488619 0.6232902  0.59167351 0.48930561 0.79260568 0.26627949\n",
      " 0.57000762 0.30902354 0.61669544 0.51386026 0.99306722 0.78864612\n",
      " 0.09918055 0.68973559 0.88129472 0.47568371 0.92368321 0.82782085\n",
      " 0.60361793 0.50732443 0.68081951 0.66453427 0.15571055 0.61770087\n",
      " 0.31248525 0.10174177 0.70087487 0.03017368 0.91404196 0.5191029\n",
      " 0.89414423 0.71515223 0.96422994 0.26213982 0.94082484 0.49907156\n",
      " 0.97627008 0.97151949 0.81732162 0.3682621  0.17655257 0.63473232\n",
      " 0.88404429 0.55363294]\n",
      "[[0.5619365  0.11158288 0.97917963 0.74423961 0.78397525]\n",
      " [0.91125917 0.02488619 0.6232902  0.59167351 0.48930561]\n",
      " [0.79260568 0.26627949 0.57000762 0.30902354 0.61669544]\n",
      " [0.51386026 0.99306722 0.78864612 0.09918055 0.68973559]\n",
      " [0.88129472 0.47568371 0.92368321 0.82782085 0.60361793]\n",
      " [0.50732443 0.68081951 0.66453427 0.15571055 0.61770087]\n",
      " [0.31248525 0.10174177 0.70087487 0.03017368 0.91404196]\n",
      " [0.5191029  0.89414423 0.71515223 0.96422994 0.26213982]\n",
      " [0.94082484 0.49907156 0.97627008 0.97151949 0.81732162]\n",
      " [0.3682621  0.17655257 0.63473232 0.88404429 0.55363294]]\n",
      "[[0.5619365  0.11158288 0.97917963 0.74423961 0.78397525]\n",
      " [0.91125917 0.02488619 0.6232902  0.59167351 0.48930561]\n",
      " [0.79260568 0.26627949 0.57000762 0.30902354 0.61669544]\n",
      " [0.51386026 0.99306722 0.78864612 0.09918055 0.68973559]\n",
      " [0.88129472 0.47568371 0.92368321 0.82782085 0.60361793]\n",
      " [0.50732443 0.68081951 0.66453427 0.15571055 0.61770087]\n",
      " [0.31248525 0.10174177 0.70087487 0.03017368 0.91404196]\n",
      " [0.5191029  0.89414423 0.71515223 0.96422994 0.26213982]\n",
      " [0.94082484 0.49907156 0.97627008 0.97151949 0.81732162]\n",
      " [0.3682621  0.17655257 0.63473232 0.88404429 0.55363294]]\n",
      "[0.5619365  0.11158288 0.97917963 0.74423961 0.78397525 0.91125917\n",
      " 0.02488619 0.6232902  0.59167351 0.48930561 0.79260568 0.26627949\n",
      " 0.57000762 0.30902354 0.61669544 0.51386026 0.99306722 0.78864612\n",
      " 0.09918055 0.68973559 0.88129472 0.47568371 0.92368321 0.82782085\n",
      " 0.60361793 0.50732443 0.68081951 0.66453427 0.15571055 0.61770087\n",
      " 0.31248525 0.10174177 0.70087487 0.03017368 0.91404196 0.5191029\n",
      " 0.89414423 0.71515223 0.96422994 0.26213982 0.94082484 0.49907156\n",
      " 0.97627008 0.97151949 0.81732162 0.3682621  0.17655257 0.63473232\n",
      " 0.88404429 0.55363294]\n",
      "[0.22599637 0.33386631 0.45196051 0.31116994 0.42718114]\n",
      "[0.55633063 0.65064183 0.66577169 0.0432924 ]\n",
      "[[0.22599637]\n",
      " [0.33386631]\n",
      " [0.45196051]\n",
      " [0.31116994]\n",
      " [0.42718114]]\n",
      "[[0.78232701 0.8766382  0.89176806 0.26928878]\n",
      " [0.89019694 0.98450813 0.99963799 0.37715871]\n",
      " [1.00829114 1.10260234 1.11773219 0.49525291]\n",
      " [0.86750057 0.96181177 0.97694162 0.35446234]\n",
      " [0.98351178 1.07782297 1.09295283 0.47047355]]\n"
     ]
    }
   ],
   "source": [
    "import numpy as np\n",
    "#rzutowanie wymiarów\n",
    "a = np.random.random(50)\n",
    "print(a)\n",
    "print(a.reshape((10, 5)))\n",
    "a = np.resize(a, (10, 5))\n",
    "print(a)\n",
    "print(a.ravel())\n",
    "b = np.random.random(5)\n",
    "print(b)\n",
    "c = np.random.random(4)\n",
    "print(c)\n",
    "# print(b+c)\n",
    "b = b[:, np.newaxis]\n",
    "print(b)\n",
    "print(b+c)"
   ]
  },
  {
   "cell_type": "code",
   "execution_count": 22,
   "id": "980ca448-d606-4f18-adfc-9bd380fc9bb8",
   "metadata": {},
   "outputs": [
    {
     "name": "stdout",
     "output_type": "stream",
     "text": [
      "[[-0.27169556  0.92174544  0.49925496  1.50674715  0.98203407]\n",
      " [ 0.49713968  0.86711204 -1.26559952  0.16130291  0.22743867]\n",
      " [ 0.11664277  0.22318903 -0.72226019 -1.67476482  0.1978183 ]\n",
      " [ 1.63101474  0.13852361 -1.55438896 -0.66573888  1.16686767]\n",
      " [ 2.09040446 -0.89559578 -0.87309116  0.6037538   0.18498821]]\n",
      "[[-0.27169556 -0.89559578 -1.55438896 -1.67476482  0.18498821]\n",
      " [ 0.11664277  0.13852361 -1.26559952 -0.66573888  0.1978183 ]\n",
      " [ 0.49713968  0.22318903 -0.87309116  0.16130291  0.22743867]\n",
      " [ 1.63101474  0.86711204 -0.72226019  0.6037538   0.98203407]\n",
      " [ 2.09040446  0.92174544  0.49925496  1.50674715  1.16686767]]\n",
      "[[ 0.18498821 -0.27169556 -0.89559578 -1.55438896 -1.67476482]\n",
      " [ 0.1978183   0.13852361  0.11664277 -0.66573888 -1.26559952]\n",
      " [ 0.49713968  0.22743867  0.22318903  0.16130291 -0.87309116]\n",
      " [ 1.63101474  0.98203407  0.86711204  0.6037538  -0.72226019]\n",
      " [ 2.09040446  1.50674715  1.16686767  0.92174544  0.49925496]]\n",
      "2\n",
      "9\n"
     ]
    }
   ],
   "source": [
    "import numpy as np\n",
    "#sortowanie danych\n",
    "a = np.random.randn(5, 5)\n",
    "print(a)\n",
    "a = np.sort(a, axis=0) # rows\n",
    "print(a)\n",
    "a = np.sort(a, axis=1)[:, ::-1] # cols\n",
    "print(a)\n",
    "\n",
    "b = np.array([(1, 'MZ', 'mazowieckie'), (2, 'ZP', 'zachodniopomorskie'), (3, 'ML', 'małopolskie')])\n",
    "print(b.ndim)\n",
    "print(b.size)"
   ]
  },
  {
   "cell_type": "code",
   "execution_count": 26,
   "id": "a12fdacd-7d1c-4587-9161-35f56056bdea",
   "metadata": {},
   "outputs": [
    {
     "name": "stdout",
     "output_type": "stream",
     "text": [
      "-442\n",
      "[ -12 -935   97 -388  796]\n"
     ]
    }
   ],
   "source": [
    "import numpy as np\n",
    "#zadanie 1\n",
    "a = np.random.randint(-1000, 1000, (10, 5))\n",
    "print(np.trace(a))\n",
    "print(np.diag(a))"
   ]
  },
  {
   "cell_type": "code",
   "execution_count": 28,
   "id": "c9005d63-4a22-42bc-970e-2dde71637b1b",
   "metadata": {},
   "outputs": [
    {
     "name": "stdout",
     "output_type": "stream",
     "text": [
      "[1.84774286 0.14744746 0.18425603 0.82360603 1.11686188]\n"
     ]
    }
   ],
   "source": [
    "import numpy as np\n",
    "#zadanie 2\n",
    "a = np.random.normal(0, 1, 5)\n",
    "b = np.random.normal(0, 1, 5)\n",
    "print(a * b)"
   ]
  },
  {
   "cell_type": "code",
   "execution_count": 30,
   "id": "d7252df2-086a-4fff-8604-bb6749568f9d",
   "metadata": {},
   "outputs": [
    {
     "name": "stdout",
     "output_type": "stream",
     "text": [
      "[100  69  72  89   1]\n",
      "[85 18 65  6 55]\n",
      "[[100]\n",
      " [ 69]\n",
      " [ 72]\n",
      " [ 89]\n",
      " [  1]]\n",
      "[[185 118 165 106 155]\n",
      " [154  87 134  75 124]\n",
      " [157  90 137  78 127]\n",
      " [174 107 154  95 144]\n",
      " [ 86  19  66   7  56]]\n"
     ]
    }
   ],
   "source": [
    "import numpy as np\n",
    "#zadanie 3\n",
    "a = np.random.randint(1, 101, 5)\n",
    "b = np.random.randint(1, 101, 5)\n",
    "print(a)\n",
    "print(b)\n",
    "a = a[:, np.newaxis]\n",
    "print(a)\n",
    "print(a+b)"
   ]
  },
  {
   "cell_type": "code",
   "execution_count": 37,
   "id": "11828686-e3c1-415b-a45f-9dda836e5a33",
   "metadata": {},
   "outputs": [
    {
     "name": "stdout",
     "output_type": "stream",
     "text": [
      "[[ 75 112  98  72]\n",
      " [ 93 176  81  69]\n",
      " [ 56  82  97  31]\n",
      " [124 133 142 129]\n",
      " [ 84 163 137  21]]\n",
      "[2414 3975  584 5917  416]\n"
     ]
    }
   ],
   "source": [
    "import numpy as np\n",
    "#zadanie 4\n",
    "a = np.random.randint(1, 101, (4, 5))\n",
    "b = np.random.randint(1, 101, (5, 4))\n",
    "a = a.T # a.reshape(5, 4)\n",
    "print(a+b)\n",
    "#zadanie 5 \n",
    "print(a[:, 2] * b[:, 3])"
   ]
  },
  {
   "cell_type": "code",
   "execution_count": 41,
   "id": "3e8f44eb-8236-41fb-87ed-30d2fb331c4a",
   "metadata": {},
   "outputs": [
    {
     "name": "stdout",
     "output_type": "stream",
     "text": [
      "[[-0.88929287  0.39463993 -2.22226541]\n",
      " [ 0.23534757  1.207897   -1.10740007]\n",
      " [ 0.88672059  0.11340138  1.43305666]]\n",
      "[[0.92296892 0.49041018 0.28200418]\n",
      " [0.829527   0.16428427 0.75559965]\n",
      " [0.43461277 0.95031597 0.2589976 ]]\n",
      "0.00578942065383946 1.1293197366688215 1.275363067629736\n",
      "0.565413393028688 0.2867001979137078 0.08219700348375925\n"
     ]
    }
   ],
   "source": [
    "import numpy as np\n",
    "#zadanie 6\n",
    "a = np.random.normal(size=(3, 3))\n",
    "b = np.random.uniform(size=(3, 3))\n",
    "print(np.mean(a), np.std(a), np.var(a))\n",
    "print(np.mean(b), np.std(b), np.var(b))\n"
   ]
  },
  {
   "cell_type": "code",
   "execution_count": 40,
   "id": "ae2a30bc-f612-4c7c-ac44-18e574b5a065",
   "metadata": {},
   "outputs": [
    {
     "name": "stdout",
     "output_type": "stream",
     "text": [
      "[[5 2 3]\n",
      " [1 8 3]\n",
      " [3 5 9]]\n",
      "[[1 9 2]\n",
      " [3 1 1]\n",
      " [7 8 7]]\n",
      "[[ 5 18  6]\n",
      " [ 3  8  3]\n",
      " [21 40 63]]\n",
      "[[ 32  71  33]\n",
      " [ 46  41  31]\n",
      " [ 81 104  74]]\n"
     ]
    }
   ],
   "source": [
    "import numpy as np\n",
    "#zadanie 7\n",
    "a = np.random.randint(1, 10, size=(3, 3))\n",
    "b = np.random.randint(1, 10, size=(3, 3))\n",
    "print(a)\n",
    "print(b)\n",
    "print(a*b) # mnozenie element po elemencie, na przyklad gdy chcemy pomnozyc kazdy element prez pewne skalary\n",
    "print(np.dot(a, b)) # standardowe mnozenie macierzowe"
   ]
  },
  {
   "cell_type": "code",
   "execution_count": 1,
   "id": "58ae96c6-2ffb-4e83-bdf3-52a5c0decfe4",
   "metadata": {},
   "outputs": [
    {
     "name": "stdout",
     "output_type": "stream",
     "text": [
      "[[36 21 12  8 33 12]\n",
      " [30 33 30 18 24 18]\n",
      " [43 29 35 35 32 25]\n",
      " [14  5  1 50 39 43]\n",
      " [12 18 48 24  9 27]\n",
      " [27 36 22 18 24 35]]\n",
      "[[36 21 12  8 33]\n",
      " [30 33 30 18 24]\n",
      " [43 29 35 35 32]]\n",
      "(48, 8)\n"
     ]
    }
   ],
   "source": [
    "import numpy as np\n",
    "#zadanie 8\n",
    "a = np.random.randint(1, 51, (6, 6))\n",
    "print(a)\n",
    "b = np.lib.stride_tricks.as_strided(a, shape=(3, 5), strides=a.strides)\n",
    "print(b)\n",
    "print(a.strides)"
   ]
  },
  {
   "cell_type": "code",
   "execution_count": 8,
   "id": "260666ca-b95c-4b91-be68-2ea1cba7dffe",
   "metadata": {},
   "outputs": [
    {
     "name": "stdout",
     "output_type": "stream",
     "text": [
      "[[0 1 2 3 4]\n",
      " [0 1 2 3 4]]\n",
      "[0 1 2 3 4 0 1 2 3 4]\n"
     ]
    }
   ],
   "source": [
    "import numpy as np\n",
    "#zadanie 9\n",
    "a = np.arange(5)\n",
    "b = np.arange(5)\n",
    "print(np.vstack((a, b))) # laczanie pionowo, czyli dodanie nowych wierszy\n",
    "                         # jest przydatne, na przyklad, gdy dodawane sa nowe dane z tymi samymi atrybutami\n",
    "print(np.hstack((a, b))) # laczanie poziomowo, czyli dodanie nowych kolumn\n",
    "                         # jest przydatne, na przykald, gdy dodawane sa nowe atrybuty dla calego zestawu danych"
   ]
  },
  {
   "cell_type": "code",
   "execution_count": 1,
   "id": "357f2fcc-d375-43c7-a463-a0c32f62aa2a",
   "metadata": {},
   "outputs": [
    {
     "name": "stdout",
     "output_type": "stream",
     "text": [
      "[[ 0  1  2  3  4  5]\n",
      " [ 6  7  8  9 10 11]\n",
      " [12 13 14 15 16 17]\n",
      " [18 19 20 21 22 23]]\n",
      "8\n",
      "11\n",
      "20\n",
      "23\n"
     ]
    }
   ],
   "source": [
    "import numpy as np\n",
    "# zadanie 10\n",
    "a = np.arange(24).reshape(4, 6)\n",
    "print(a)\n",
    "print(np.max(np.lib.stride_tricks.as_strided(a, shape=(2, 3), strides=a.strides)))\n",
    "print(np.max(np.lib.stride_tricks.as_strided(a[:, 3:], shape=(2, 3), strides=a.strides)))\n",
    "print(np.max(np.lib.stride_tricks.as_strided(a[2:, :], shape=(2, 3), strides=a.strides)))\n",
    "print(np.max(np.lib.stride_tricks.as_strided(a[2:, 3:], shape=(2, 3), strides=a.strides)))"
   ]
  },
  {
   "cell_type": "code",
   "execution_count": null,
   "id": "f565cd9a-05e1-4752-b6ab-97dcea7f94b4",
   "metadata": {},
   "outputs": [],
   "source": []
  }
 ],
 "metadata": {
  "kernelspec": {
   "display_name": "Python 3 (ipykernel)",
   "language": "python",
   "name": "python3"
  },
  "language_info": {
   "codemirror_mode": {
    "name": "ipython",
    "version": 3
   },
   "file_extension": ".py",
   "mimetype": "text/x-python",
   "name": "python",
   "nbconvert_exporter": "python",
   "pygments_lexer": "ipython3",
   "version": "3.10.12"
  }
 },
 "nbformat": 4,
 "nbformat_minor": 5
}
