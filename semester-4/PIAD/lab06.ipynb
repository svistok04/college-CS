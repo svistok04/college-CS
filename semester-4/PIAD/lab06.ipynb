{
 "cells": [
  {
   "cell_type": "code",
   "execution_count": null,
   "id": "0",
   "metadata": {},
   "outputs": [],
   "source": [
    "import numpy as np\n",
    "import matplotlib.pyplot as plt\n",
    "from sklearn import datasets\n",
    "from sklearn.decomposition import PCA"
   ]
  },
  {
   "cell_type": "code",
   "execution_count": null,
   "id": "1",
   "metadata": {},
   "outputs": [],
   "source": [
    "def wiPCA(samples, k=1): \n",
    "    if samples.shape[1] < k:\n",
    "        return False\n",
    "    # mean centering\n",
    "    mean = np.mean(samples, axis=0)\n",
    "    mean_data = samples - mean\n",
    "    # covariance matrix\n",
    "    cov = np.cov(mean_data, rowvar=False)\n",
    "    # eigen vectors and eigen values\n",
    "    eig_val, eig_vec = np.linalg.eigh(cov)\n",
    "    # sorting eigen vectors by their eigen values \n",
    "    sorted_indices = np.argsort(eig_val)[::-1]\n",
    "    eig_val = eig_val[sorted_indices]\n",
    "    eig_vec = eig_vec[:, sorted_indices]\n",
    "    # extracting k principal components\n",
    "    principal_components = eig_vec[:, :k]\n",
    "    # building projection\n",
    "    pca_projection = np.dot(mean_data, principal_components)\n",
    "    # building reconstruction of original data\n",
    "    reconstruction = np.dot(pca_projection, principal_components.T) + mean\n",
    "    # cumulative sum of explained variance for computing the error (data loss)\n",
    "    sum_eig_val = np.sum(eig_val)\n",
    "    explained_variance = eig_val / sum_eig_val\n",
    "    cumulative_explained_variance = np.cumsum(explained_variance)\n",
    "    # print(\"var\", explained_variance.shape)\n",
    "    return pca_projection, reconstruction, cumulative_explained_variance\n"
   ]
  },
  {
   "cell_type": "code",
   "execution_count": null,
   "id": "2",
   "metadata": {},
   "outputs": [],
   "source": [
    "# zad 1.1\n",
    "s = np.dot(np.random.randn(200, 2), np.random.randn(2, 2))\n",
    "# zad 1.2\n",
    "plt.scatter(s[:, 0], s[:, 1])\n",
    "# zad 1.3\n",
    "pca_projection, reconstruction, _ = wiPCA(s)\n",
    "plt.scatter(reconstruction[:, 0], reconstruction[:, 1])\n",
    "plt.show()\n"
   ]
  },
  {
   "cell_type": "code",
   "execution_count": null,
   "id": "3",
   "metadata": {},
   "outputs": [],
   "source": [
    "#zad 2.1\n",
    "iris = datasets.load_iris()\n",
    "# zad 2.2\n",
    "pca_projection, _, _ = wiPCA(iris.data, 2)\n",
    "# plt.scatter(iris.data[:, 0], iris.data[:, 1], c=iris.target)\n",
    "# plt.scatter(pca_projection[:, 0], pca_projection[:, 1], c=iris.target)\n",
    "# zad 2.3\n",
    "for i, color in enumerate(['red', 'green', 'blue']):\n",
    "    idx = iris.target == i\n",
    "    plt.scatter(pca_projection[idx, 0], pca_projection[idx, 1], c=color, label=iris.target_names[i])\n",
    "plt.legend()\n",
    "plt.show()"
   ]
  },
  {
   "cell_type": "code",
   "execution_count": null,
   "id": "4",
   "metadata": {},
   "outputs": [],
   "source": [
    "# zad 3.1\n",
    "digits = datasets.load_digits()\n",
    "# zad 3.2\n",
    "pca_projection, _, cumulative_explained_variance = wiPCA(digits.data, 2)\n",
    "# zad 3.3\n",
    "plt.plot(cumulative_explained_variance)\n",
    "plt.xlabel('number of principal components')\n",
    "plt.ylabel('cumulative explained variance')\n",
    "plt.show()"
   ]
  },
  {
   "cell_type": "code",
   "execution_count": null,
   "id": "5",
   "metadata": {},
   "outputs": [],
   "source": [
    "# zad 3.4\n",
    "pca_projection, _, cumulative_explained_variance = wiPCA(digits.data, 4)\n",
    "plt.scatter(pca_projection[:, 0], pca_projection[:, 1], c=digits.target, edgecolor='k')\n",
    "plt.colorbar(boundaries=np.arange(-0.5, 10, 1), spacing='proportional', ticks=np.arange(0, 10))\n",
    "plt.xlabel('principal component 1')\n",
    "plt.ylabel('principal component 2')\n",
    "plt.show()\n",
    "\n",
    "digits.data.shape, reconstruction.shape "
   ]
  },
  {
   "cell_type": "code",
   "execution_count": null,
   "id": "6",
   "metadata": {},
   "outputs": [],
   "source": [
    "# zad 3.5\n",
    "errors = []\n",
    "for num_components in range(1, 65):  \n",
    "    _, reconstruction, _ = wiPCA(digits.data, num_components)\n",
    "    error = np.mean((digits.data - reconstruction)**2)\n",
    "    errors.append(error)\n",
    "\n",
    "plt.plot(range(1, 65), errors)\n",
    "plt.xlabel('number of principal components')\n",
    "plt.ylabel('error')\n",
    "plt.xlim(1, 64)\n",
    "plt.ylim(0, np.max(errors))\n",
    "plt.show()"
   ]
  },
  {
   "cell_type": "code",
   "execution_count": null,
   "id": "7",
   "metadata": {},
   "outputs": [],
   "source": []
  }
 ],
 "metadata": {
  "kernelspec": {
   "display_name": "Python 3 (ipykernel)",
   "language": "python",
   "name": "python3"
  },
  "language_info": {
   "codemirror_mode": {
    "name": "ipython",
    "version": 3
   },
   "file_extension": ".py",
   "mimetype": "text/x-python",
   "name": "python",
   "nbconvert_exporter": "python",
   "pygments_lexer": "ipython3",
   "version": "3.10.12"
  }
 },
 "nbformat": 4,
 "nbformat_minor": 5
}
