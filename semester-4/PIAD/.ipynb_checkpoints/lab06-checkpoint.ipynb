{
 "cells": [
  {
   "cell_type": "code",
   "execution_count": null,
   "id": "0",
   "metadata": {},
   "outputs": [],
   "source": [
    "import numpy as np\n",
    "import matplotlib.pyplot as plt\n",
    "from sklearn import datasets\n",
    "from sklearn.decomposition import PCA"
   ]
  },
  {
   "cell_type": "code",
   "execution_count": null,
   "id": "1",
   "metadata": {},
   "outputs": [],
   "source": [
    "def wiPCA(samples, components=1): \n",
    "    if samples.shape[1] < components:\n",
    "        return False\n",
    "    mean = np.mean(samples, axis=0)\n",
    "    mean_data = samples - mean\n",
    "    cov = np.cov(mean_data, rowvar=False)\n",
    "    eig_val, eig_vec = np.linalg.eigh(cov)\n",
    "    sorted_indices = np.argsort(eig_val)[::-1]\n",
    "    eig_val = eig_val[sorted_indices]\n",
    "    eig_vec = eig_vec[:, sorted_indices]\n",
    "    principal_components = eig_vec[:, :components]\n",
    "    pca_projection = np.dot(mean_data, principal_components)\n",
    "    reconstruction = np.dot(pca_projection, principal_components.T) + mean\n",
    "    # print('pca_projection', pca_projection.shape)\n",
    "    sum_eig_val = np.sum(eig_val)\n",
    "    explained_variance = eig_val/ sum_eig_val\n",
    "    cumulative_explained_variance = np.cumsum(explained_variance)\n",
    "    # print(\"var\", explained_variance.shape)\n",
    "    return pca_projection, reconstruction, cumulative_explained_variance\n",
    "\n",
    "s = np.dot(np.random.randn(2, 2), np.random.randn(2, 200))\n",
    "s = s.T\n",
    "_, reconstruction, _ = wiPCA(s)\n",
    "plt.scatter(s[:, 0], s[:, 1])\n",
    "plt.scatter(reconstruction[:, 0], reconstruction[:, 1])\n",
    "# plt.scatter(s[0, :], s[1, :])\n",
    "# plt.scatter(reconstruction[0, :], reconstruction[1, :])\n",
    "plt.show()\n",
    "\n",
    "s.shape, reconstruction.shape"
   ]
  },
  {
   "cell_type": "code",
   "execution_count": null,
   "id": "2",
   "metadata": {},
   "outputs": [],
   "source": [
    "iris = datasets.load_iris()\n",
    "pca_projection, _, _ = wiPCA(iris.data, 2)\n",
    "# plt.scatter(iris.data[:, 0], iris.data[:, 1], c=iris.target)\n",
    "# plt.scatter(reconstruction[:, 0], reconstruction[:, 1], c=iris.target)\n",
    "\n",
    "colors = ['red', 'green', 'blue']\n",
    "for i, color in enumerate(colors):\n",
    "    idx = iris.target == i\n",
    "    plt.scatter(pca_projection[idx, 0], pca_projection[idx, 1], c=color, label=iris.target_names[i])\n",
    "plt.legend()\n",
    "\n",
    "plt.show()\n",
    "iris.data[0].shape"
   ]
  },
  {
   "cell_type": "code",
   "execution_count": null,
   "id": "3",
   "metadata": {},
   "outputs": [],
   "source": [
    "digits = datasets.load_digits()\n",
    "pca_projection, _, cumulative_explained_variance = wiPCA(digits.data, 2)\n",
    "\n",
    "scatter = plt.scatter(pca_projection[:, 0], pca_projection[:, 1], c=digits.target, edgecolor='k')\n",
    "\n",
    "# Create a colorbar with boundaries and ticks\n",
    "colorbar = plt.colorbar(scatter, boundaries=np.arange(-0.5, 10, 1), spacing='proportional', ticks=np.arange(0, 10))\n",
    "\n",
    "# Set the label of the colorbar\n",
    "colorbar.set_label('Digit Label', rotation=270, labelpad=20)\n",
    "\n",
    "plt.xlabel('Principal Component 1')\n",
    "plt.ylabel('Principal Component 2')\n",
    "plt.title('PCA of Digits Dataset')\n",
    "\n",
    "plt.show()\n",
    "\n",
    "digits.data.shape, reconstruction.shape "
   ]
  },
  {
   "cell_type": "code",
   "execution_count": null,
   "id": "4",
   "metadata": {},
   "outputs": [],
   "source": [
    "plt.plot(cumulative_explained_variance)"
   ]
  },
  {
   "cell_type": "code",
   "execution_count": null,
   "id": "5",
   "metadata": {},
   "outputs": [],
   "source": [
    "errors = []\n",
    "for num_components in range(1, 65):  \n",
    "    _, reconstruction, _ = wiPCA(digits.data, components=num_components)\n",
    "    error = np.mean((digits.data - reconstruction)**2)\n",
    "    errors.append(error)\n",
    "\n",
    "plt.plot(range(1, 65), errors)"
   ]
  },
  {
   "cell_type": "code",
   "execution_count": null,
   "id": "6",
   "metadata": {},
   "outputs": [],
   "source": []
  }
 ],
 "metadata": {
  "kernelspec": {
   "display_name": "Python 3 (ipykernel)",
   "language": "python",
   "name": "python3"
  },
  "language_info": {
   "codemirror_mode": {
    "name": "ipython",
    "version": 3
   },
   "file_extension": ".py",
   "mimetype": "text/x-python",
   "name": "python",
   "nbconvert_exporter": "python",
   "pygments_lexer": "ipython3",
   "version": "3.10.12"
  }
 },
 "nbformat": 4,
 "nbformat_minor": 5
}
