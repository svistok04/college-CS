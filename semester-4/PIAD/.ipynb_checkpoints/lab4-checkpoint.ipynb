{
 "cells": [
  {
   "cell_type": "code",
   "execution_count": null,
   "id": "0",
   "metadata": {},
   "outputs": [],
   "source": [
    "import numpy as np\n",
    "import scipy \n",
    "import matplotlib.pyplot as plt\n",
    "import pylab as py\n",
    "from skimage import data\n",
    "from skimage import filters\n",
    "from skimage import exposure\n",
    "from PIL import Image\n",
    "import matplotlib.image"
   ]
  },
  {
   "cell_type": "code",
   "execution_count": null,
   "id": "1",
   "metadata": {},
   "outputs": [],
   "source": [
    "# zadanie 2.1 - 2.2\n",
    "def sinus(f, Fs):\n",
    "    t = np.arange(0, 1, 1 / Fs)\n",
    "    s = np.sin(2*np.pi*f*t)\n",
    "    return t, s\n",
    "f = 10\n",
    "Fs = 50\n",
    "t, s = sinus(f, Fs)\n",
    "print(f\"t = {np.round(t, 5)}\\n s = {np.round(s, 5)}\")\n",
    "plt.plot(t, s)"
   ]
  },
  {
   "cell_type": "code",
   "execution_count": null,
   "id": "2",
   "metadata": {},
   "outputs": [],
   "source": [
    "# zadanie 2.3\n",
    "def sinus(f, Fs):\n",
    "    t = np.arange(0, 1, 1 / Fs)\n",
    "    s = np.sin(2*np.pi*f*t)\n",
    "    return s, t\n",
    "f = 10\n",
    "Fs = [20, 21, 30, 45, 50, 100, 150, 200, 250, 1000]\n",
    "fig, axs = plt.subplots(nrows=5, ncols=2, figsize=(6, 9), constrained_layout = True)\n",
    "for i in range(0, 5):\n",
    "    for j in range(0, 2):            \n",
    "        t, s = sinus(f, Fs[i*2+j])\n",
    "        axs[i][j].plot(s, t)\n",
    "        axs[i][j].set_title(f\"fs = {Fs[i*2+j]}\")\n",
    "plt.show()"
   ]
  },
  {
   "cell_type": "code",
   "execution_count": null,
   "id": "3",
   "metadata": {},
   "outputs": [],
   "source": [
    "# zadanie 2.4\n",
    "# Nyquist–Shannon sampling theorem"
   ]
  },
  {
   "cell_type": "code",
   "execution_count": null,
   "id": "4",
   "metadata": {},
   "outputs": [],
   "source": [
    "# zadanie 2.5\n",
    "# aliasing"
   ]
  },
  {
   "cell_type": "code",
   "execution_count": null,
   "id": "5",
   "metadata": {},
   "outputs": [],
   "source": [
    "im = Image.open('lab4_3.png')\n",
    "plt.imshow(im)\n",
    "im_arr = np.array(im)"
   ]
  },
  {
   "cell_type": "code",
   "execution_count": null,
   "id": "6",
   "metadata": {},
   "outputs": [],
   "source": [
    "methods = [None, 'none', 'nearest', 'bilinear', 'bicubic', 'spline16',\n",
    "           'spline36', 'hanning', 'hamming', 'hermite', 'kaiser', 'quadric',\n",
    "           'catrom', 'gaussian', 'bessel', 'mitchell', 'sinc', 'lanczos']\n",
    "fig, axs = plt.subplots(nrows=3, ncols=6, figsize=(9, 6),\n",
    "                        subplot_kw={'xticks': [], 'yticks': []})\n",
    "for ax, interp_method in zip(axs.flat, methods):\n",
    "    ax.imshow(im, interpolation=interp_method)\n",
    "    ax.set_title(str(interp_method))"
   ]
  },
  {
   "cell_type": "code",
   "execution_count": null,
   "id": "7",
   "metadata": {},
   "outputs": [],
   "source": [
    "# zadanie 3.2\n",
    "im_arr.ndim"
   ]
  },
  {
   "cell_type": "code",
   "execution_count": null,
   "id": "8",
   "metadata": {},
   "outputs": [],
   "source": [
    "# zadanie 3.3\n",
    "im_arr.shape[2]"
   ]
  },
  {
   "cell_type": "code",
   "execution_count": null,
   "id": "9",
   "metadata": {},
   "outputs": [],
   "source": [
    "# zadanie 3.4\n",
    "brightness = (np.max(im_arr, axis=-1) + np.min(im_arr, axis=-1)) / 2\n",
    "mean_val = np.mean(im_arr, axis=-1)\n",
    "luminance = 0.21 * im_arr[:, :, 0] + 0.72 * im_arr[:, :, 1] + 0.07 * im_arr[:, :, 2]\n",
    "brightness, mean_val, luminance"
   ]
  },
  {
   "cell_type": "code",
   "execution_count": null,
   "id": "10",
   "metadata": {},
   "outputs": [],
   "source": [
    "# zadanie 3.5\n",
    "fig, (ax1, ax2, ax3) = plt.subplots(1, 3, figsize=(20, 5))\n",
    "ax1.hist(brightness.ravel(), bins='auto')\n",
    "ax1.set_title('Brightness')\n",
    "ax2.hist(mean_val.ravel(), bins='auto')\n",
    "ax2.set_title('Mean Value')\n",
    "ax3.hist(luminance.ravel(), bins='auto')\n",
    "ax3.set_title('Luminance')\n",
    "plt.show()"
   ]
  },
  {
   "cell_type": "code",
   "execution_count": null,
   "id": "11",
   "metadata": {},
   "outputs": [],
   "source": [
    "hist, bin_edges = np.histogram(brightness.ravel(), bins=128)\n",
    "fig, (ax1, ax2) = plt.subplots(1, 2, constrained_layout=True)\n",
    "pallet1 = Image.fromarray(bin_edges.astype('uint8'))\n",
    "pallet2 = Image.fromarray(hist.astype('uint8'))\n",
    "ax1.imshow(pallet1)\n",
    "ax2.imshow(pallet2)\n",
    "pallet2.save('ok.png')"
   ]
  },
  {
   "cell_type": "code",
   "execution_count": null,
   "id": "12",
   "metadata": {},
   "outputs": [],
   "source": [
    "# hist, bin_edges = np.histogram(brightness.ravel(), bins=16)\n",
    "# bin_centers = (bin_edges[:-1] + bin_edges[1:]) / 2\n",
    "# reduced = np.interp(brightness, bin_edges[:-1], bin_centers)\n",
    "# pallet = Image.fromarray(hist.astype('uint8'))\n",
    "# print(bin_centers)\n",
    "# new_im = Image.fromarray(reduced.astype('uint8'))\n",
    "# fig, (ax1, ax2, ax3) = plt.subplots(1, 3)\n",
    "# ax1.imshow(im)\n",
    "# ax2.imshow(pallet)\n",
    "# ax3.imshow(new_im)\n",
    "# new_im.save('reduced_color_image.png')\n",
    "img_array = im_arr\n",
    "num_colors = 128\n",
    "reduced_img_array = np.zeros_like(img_array)\n",
    "\n",
    "# Obliczenie przedziałów dla każdego kanału kolorów\n",
    "for channel in range(3):  # Iteracja przez kanały R, G, B\n",
    "    channel_data = img_array[:, :, channel].flatten()\n",
    "    hist, bin_edges = np.histogram(channel_data, bins=num_colors)\n",
    "\n",
    "    # Przypisanie nowych wartości kolorów\n",
    "    for i in range(num_colors):\n",
    "        # Znalezienie indeksów pikseli należących do aktualnego przedziału\n",
    "        indices = np.where((channel_data >= bin_edges[i]) & (channel_data < bin_edges[i + 1]))\n",
    "        # Przypisanie środka przedziału jako nową wartość koloru\n",
    "        mean_value = (bin_edges[i] + bin_edges[i + 1]) / 2\n",
    "        channel_data[indices] = mean_value\n",
    "\n",
    "    reduced_img_array[:, :, channel] = channel_data.reshape(img_array[:, :, channel].shape)\n",
    "\n",
    "# Konwersja przetworzonej tablicy z powrotem na obraz PIL i zapisanie\n",
    "reduced_img = Image.fromarray(reduced_img_array.astype('uint8'), 'RGB')\n",
    "reduced_img.save('reduced_colors_image.png')  # Zapisanie obrazu"
   ]
  },
  {
   "cell_type": "code",
   "execution_count": null,
   "id": "13",
   "metadata": {},
   "outputs": [],
   "source": [
    "# zadanie 4.1-4.3\n",
    "im = Image.open('lab4_4.png')\n",
    "im_arr = np.asarray(im)\n",
    "grayscale = 0.21 * im_arr[:, :, 0] + 0.72 * im_arr[:, :, 1] + 0.07 * im_arr[:, :, 2]\n",
    "plt.hist(grayscale.ravel(), bins='auto')\n",
    "plt.show()"
   ]
  },
  {
   "cell_type": "code",
   "execution_count": null,
   "id": "14",
   "metadata": {},
   "outputs": [],
   "source": []
  }
 ],
 "metadata": {
  "kernelspec": {
   "display_name": "Python 3 (ipykernel)",
   "language": "python",
   "name": "python3"
  },
  "language_info": {
   "codemirror_mode": {
    "name": "ipython",
    "version": 3
   },
   "file_extension": ".py",
   "mimetype": "text/x-python",
   "name": "python",
   "nbconvert_exporter": "python",
   "pygments_lexer": "ipython3",
   "version": "3.10.12"
  }
 },
 "nbformat": 4,
 "nbformat_minor": 5
}
