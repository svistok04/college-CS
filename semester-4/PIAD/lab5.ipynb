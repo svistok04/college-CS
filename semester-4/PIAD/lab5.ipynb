{
 "cells": [
  {
   "cell_type": "code",
   "execution_count": null,
   "id": "0",
   "metadata": {},
   "outputs": [],
   "source": [
    "import numpy as np\n",
    "import math\n",
    "from scipy import sparse\n",
    "import pandas as pd\n",
    "import sklearn"
   ]
  },
  {
   "cell_type": "code",
   "execution_count": null,
   "id": "1",
   "metadata": {},
   "outputs": [],
   "source": [
    "# zad 1\n",
    "def freq(x, prob=True):\n",
    "    xi_ni = {element: 0 for element in set(x)}\n",
    "    xi = list(xi_ni.keys())\n",
    "    for element in x:\n",
    "        xi_ni[element] += 1    \n",
    "    ni = list(xi_ni.values())\n",
    "    if prob:\n",
    "        pi = [n / len(x) for n in ni]\n",
    "    return xi, pi if prob else ni\n",
    "xi, ni = freq(np.random.randint(low=0, high=10, size=50), prob=False)\n",
    "print(xi)\n",
    "print(ni, sum(ni))"
   ]
  },
  {
   "cell_type": "code",
   "execution_count": null,
   "id": "2",
   "metadata": {},
   "outputs": [],
   "source": [
    "# zad 2\n",
    "def freq2(x, y, prob=True):\n",
    "    xy = list(zip(x, y))\n",
    "    xyi_ni = {pair: 0 for pair in set(xy)}\n",
    "    xyi = list(xyi_ni.keys())\n",
    "    xi = [t[0] for t in xyi]\n",
    "    yi = [t[1] for t in xyi]\n",
    "    for pair in xy:\n",
    "        xyi_ni[pair] += 1\n",
    "    ni = list(xyi_ni.values())\n",
    "    if prob:\n",
    "        pi = [n / len(xy) for n in ni]\n",
    "    return xi, yi, pi if prob else ni\n",
    "\n",
    "x = [10, 20, 30, 40, 50, 10, 20, 30, 35]\n",
    "y = ['a', 'b', 'b', 'c', 'd', 'a', 'b', 'e', 'e']\n",
    "xi, yi, pi = freq2(x, y, prob=True)\n",
    "xi, yi, ni = freq2(x, y, prob=False)\n",
    "print(xi)\n",
    "print(yi)\n",
    "print(pi)\n",
    "print(ni)"
   ]
  },
  {
   "cell_type": "code",
   "execution_count": null,
   "id": "3",
   "metadata": {},
   "outputs": [],
   "source": [
    "# zad 3 \n",
    "def entropy(x):\n",
    "    _, pi = freq(x)\n",
    "    return -sum(p * math.log2(p) for p in pi)\n",
    "def entropy2(x, y):\n",
    "    _, _, pi = freq2(x, y)\n",
    "    return -sum(p * math.log2(p) for p in pi)\n",
    "def infogain(x, y):\n",
    "    return entropy(x) + entropy(y) - entropy2(x, y)\n",
    "print(entropy([1, 5, 7, 5, 2]))\n",
    "print(infogain([1, 5, 7, 5, 2],['a', 'a', 'a', 'b', 'b']))"
   ]
  },
  {
   "cell_type": "code",
   "execution_count": null,
   "id": "4",
   "metadata": {},
   "outputs": [],
   "source": [
    "zoo = pd.read_csv('zoo.csv')\n",
    "data = []\n",
    "for name, value in zoo.items():\n",
    "    if name != 'type': \n",
    "        data.append([name, entropy(value), infogain(value, zoo['type'])])\n",
    "df = pd.DataFrame(data, columns=['name', 'entropy', 'infogain'])\n",
    "df.sort_values('infogain', ascending=False)"
   ]
  },
  {
   "cell_type": "code",
   "execution_count": null,
   "id": "5",
   "metadata": {},
   "outputs": [],
   "source": []
  }
 ],
 "metadata": {
  "kernelspec": {
   "display_name": "Python 3 (ipykernel)",
   "language": "python",
   "name": "python3"
  },
  "language_info": {
   "codemirror_mode": {
    "name": "ipython",
    "version": 3
   },
   "file_extension": ".py",
   "mimetype": "text/x-python",
   "name": "python",
   "nbconvert_exporter": "python",
   "pygments_lexer": "ipython3",
   "version": "3.10.12"
  }
 },
 "nbformat": 4,
 "nbformat_minor": 5
}
